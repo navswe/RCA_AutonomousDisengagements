{
 "cells": [
  {
   "cell_type": "markdown",
   "id": "8d33b979-1e80-473f-bed7-f91e03e994f7",
   "metadata": {},
   "source": [
    "# 02_data_preparation notebook"
   ]
  },
  {
   "cell_type": "markdown",
   "id": "f48c22f0-76c7-47e3-83b9-46dbb17058b9",
   "metadata": {},
   "source": [
    "**the objective of this notebook is to read, explore, and clean the data for both subreddit dataframes.**"
   ]
  },
  {
   "cell_type": "markdown",
   "id": "085dee9b-70b3-45c4-ac2d-9848bcc49aea",
   "metadata": {},
   "source": [
    "## 1. Imports"
   ]
  },
  {
   "cell_type": "code",
   "execution_count": 1,
   "id": "69d19d3d-1d72-46f6-99ec-d4307deb084b",
   "metadata": {},
   "outputs": [],
   "source": [
    "import pandas as pd\n",
    "import numpy as np\n",
    "import matplotlib.pyplot as plt\n",
    "import seaborn as sns\n",
    "import datetime"
   ]
  },
  {
   "cell_type": "markdown",
   "id": "abace840-6c7e-4083-9548-2ce5edaa6bb2",
   "metadata": {},
   "source": [
    "## 2. Read CSVs"
   ]
  },
  {
   "cell_type": "code",
   "execution_count": 2,
   "id": "0b83bfb6-6f18-42c6-8b67-f10362ea0ed4",
   "metadata": {},
   "outputs": [],
   "source": [
    "reports2023 = pd.read_csv('../data/reports2023.csv')\n",
    "reports2022 = pd.read_csv('../data/reports2022.csv')\n",
    "reports2021 = pd.read_csv('../data/reports2021.csv')"
   ]
  },
  {
   "cell_type": "markdown",
   "id": "e9f5b91c-f68d-49b8-8eec-c6262ba9c3f5",
   "metadata": {},
   "source": [
    "## 3. Inspect Data"
   ]
  },
  {
   "cell_type": "markdown",
   "id": "69e5d30b-dfd7-45eb-b508-1b0c6fa8c43d",
   "metadata": {},
   "source": [
    "inspect the data shape and data type for each dfs."
   ]
  },
  {
   "cell_type": "code",
   "execution_count": 3,
   "id": "db9a6e0c-d5f5-4d46-be69-cfc045d828b6",
   "metadata": {},
   "outputs": [
    {
     "name": "stdout",
     "output_type": "stream",
     "text": [
      "\n",
      "data shapes:\n",
      "2023: (12687, 9)\n",
      "2022: (8216, 9)\n",
      "2021: (2676, 10)\n",
      "\n"
     ]
    }
   ],
   "source": [
    "print(f'''\n",
    "data shapes:\n",
    "2023: {reports2023.shape}\n",
    "2022: {reports2022.shape}\n",
    "2021: {reports2021.shape}\n",
    "''')"
   ]
  },
  {
   "cell_type": "code",
   "execution_count": 4,
   "id": "0b931d50-06d9-4484-b72d-c816dfbb3420",
   "metadata": {},
   "outputs": [
    {
     "name": "stdout",
     "output_type": "stream",
     "text": [
      "\n",
      "2023 Disengagement Reports data types:\n",
      "Manufacturer                                                                                        object\n",
      "Permit Number                                                                                       object\n",
      "DATE                                                                                                object\n",
      "VIN NUMBER                                                                                          object\n",
      "VEHICLE IS CAPABLE OF OPERATING WITHOUT A DRIVER\\n(Yes or No)                                       object\n",
      "DRIVER PRESENT\\n(Yes or No)                                                                         object\n",
      "DISENGAGEMENT INITIATED BY\\n(AV System, Test Driver, Remote Operator, or Passenger)                 object\n",
      "DISENGAGEMENT\\nLOCATION\\n(Interstate, Freeway, Highway, Rural Road, Street, or Parking Facility)    object\n",
      "DESCRIPTION OF FACTS CAUSING DISENGAGEMENT                                                          object\n",
      "dtype: object\n",
      "\n",
      "2022 Disengagement Reports data types:\n",
      "Manufacturer                                                                                        object\n",
      "Permit Number                                                                                       object\n",
      "DATE                                                                                                object\n",
      "VIN NUMBER                                                                                          object\n",
      "VEHICLE IS CAPABLE OF OPERATING WITHOUT A DRIVER\\n(Yes or No)                                       object\n",
      "DRIVER PRESENT\\n(Yes or No)                                                                         object\n",
      "DISENGAGEMENT INITIATED BY\\n(AV System, Test Driver, Remote Operator, or Passenger)                 object\n",
      "DISENGAGEMENT\\nLOCATION\\n(Interstate, Freeway, Highway, Rural Road, Street, or Parking Facility)    object\n",
      "DESCRIPTION OF FACTS CAUSING DISENGAGEMENT                                                          object\n",
      "dtype: object\n",
      "\n",
      "2021 Disengagement Reports data types:\n",
      "Manufacturer                                                                                        object\n",
      "Permit Number                                                                                       object\n",
      "DATE                                                                                                object\n",
      "VIN NUMBER                                                                                          object\n",
      "VEHICLE IS CAPABLE OF OPERATING WITHOUT A DRIVER\\n(Yes or No)                                       object\n",
      "DRIVER PRESENT\\n(Yes or No)                                                                         object\n",
      "DISENGAGEMENT INITIATED BY\\n(AV System, Test Driver, Remote Operator, or Passenger)                 object\n",
      "DISENGAGEMENT\\nLOCATION\\n(Interstate, Freeway, Highway, Rural Road, Street, or Parking Facility)    object\n",
      "DESCRIPTION OF FACTS CAUSING DISENGAGEMENT                                                          object\n",
      "Unnamed: 9                                                                                          object\n",
      "dtype: object\n",
      "\n"
     ]
    }
   ],
   "source": [
    "print(f'''\n",
    "2023 Disengagement Reports data types:\n",
    "{reports2023.dtypes}\n",
    "\n",
    "2022 Disengagement Reports data types:\n",
    "{reports2022.dtypes}\n",
    "\n",
    "2021 Disengagement Reports data types:\n",
    "{reports2021.dtypes}\n",
    "''')"
   ]
  },
  {
   "cell_type": "markdown",
   "id": "1cdc6ac5-b713-4d21-8a88-aa2802b71fac",
   "metadata": {},
   "source": [
    "## 4. Data Cleaning"
   ]
  },
  {
   "cell_type": "markdown",
   "id": "65472fbb-c168-4194-9b94-d2ec0c53adb0",
   "metadata": {},
   "source": [
    "### convert UTC time"
   ]
  },
  {
   "cell_type": "markdown",
   "id": "398b06ea-1701-4749-8e56-a9be9b44bf76",
   "metadata": {},
   "source": [
    "Change the \"DATE\" column to be datetime dtype in all 3 dfs."
   ]
  },
  {
   "cell_type": "code",
   "execution_count": 5,
   "id": "95c822de-6a6e-4b04-8850-3e728377e221",
   "metadata": {},
   "outputs": [],
   "source": [
    "reports2023['DATE'] = pd.to_datetime(reports2023['DATE'], format='mixed')\n",
    "reports2022['DATE'] = pd.to_datetime(reports2022['DATE'], format='mixed')\n",
    "reports2021['DATE'] = pd.to_datetime(reports2021['DATE'], format='mixed')"
   ]
  },
  {
   "cell_type": "markdown",
   "id": "f9de1393-f74b-4905-848e-cedd9cbffd0a",
   "metadata": {},
   "source": [
    "### Check for nulls"
   ]
  },
  {
   "cell_type": "markdown",
   "id": "7c2fd21d-1688-4150-94f6-57541bc5bd91",
   "metadata": {},
   "source": [
    "In \"reports2021\", there is a 'Unnamed: 9' column that can be dropped since this information is not relevant to this analysis."
   ]
  },
  {
   "cell_type": "code",
   "execution_count": 6,
   "id": "7f93370b-d90b-40cd-a966-f52404060434",
   "metadata": {},
   "outputs": [
    {
     "data": {
      "text/plain": [
       "Unnamed: 9\n",
       "Planning      40\n",
       "Perception    31\n",
       "Name: count, dtype: int64"
      ]
     },
     "execution_count": 6,
     "metadata": {},
     "output_type": "execute_result"
    }
   ],
   "source": [
    "reports2021['Unnamed: 9'].value_counts()"
   ]
  },
  {
   "cell_type": "code",
   "execution_count": 7,
   "id": "2883ec58-c61d-4745-9707-7b69cfcc74d8",
   "metadata": {},
   "outputs": [],
   "source": [
    "reports2021.drop(columns=['Unnamed: 9'], inplace=True)"
   ]
  },
  {
   "cell_type": "markdown",
   "id": "2825ca2e-b198-4ea7-9999-7841d57e4fed",
   "metadata": {},
   "source": [
    "There are 6125 nulls data in 'reports2023' but not in other dfs."
   ]
  },
  {
   "cell_type": "code",
   "execution_count": 8,
   "id": "e18e894f-6d6f-4047-aff2-233ded8f323c",
   "metadata": {},
   "outputs": [
    {
     "data": {
      "text/plain": [
       "Manufacturer                                                                                        6125\n",
       "Permit Number                                                                                       6125\n",
       "DATE                                                                                                6125\n",
       "VIN NUMBER                                                                                          6125\n",
       "VEHICLE IS CAPABLE OF OPERATING WITHOUT A DRIVER\\n(Yes or No)                                       6125\n",
       "DRIVER PRESENT\\n(Yes or No)                                                                         6125\n",
       "DISENGAGEMENT INITIATED BY\\n(AV System, Test Driver, Remote Operator, or Passenger)                 6125\n",
       "DISENGAGEMENT\\nLOCATION\\n(Interstate, Freeway, Highway, Rural Road, Street, or Parking Facility)    6125\n",
       "DESCRIPTION OF FACTS CAUSING DISENGAGEMENT                                                          6125\n",
       "dtype: int64"
      ]
     },
     "execution_count": 8,
     "metadata": {},
     "output_type": "execute_result"
    }
   ],
   "source": [
    "reports2023.isnull().sum()"
   ]
  },
  {
   "cell_type": "code",
   "execution_count": 9,
   "id": "fe73bd83-17ec-4ce3-a75d-a819ac34488a",
   "metadata": {},
   "outputs": [
    {
     "data": {
      "text/plain": [
       "Manufacturer                                                                                        0\n",
       "Permit Number                                                                                       0\n",
       "DATE                                                                                                0\n",
       "VIN NUMBER                                                                                          0\n",
       "VEHICLE IS CAPABLE OF OPERATING WITHOUT A DRIVER\\n(Yes or No)                                       0\n",
       "DRIVER PRESENT\\n(Yes or No)                                                                         0\n",
       "DISENGAGEMENT INITIATED BY\\n(AV System, Test Driver, Remote Operator, or Passenger)                 0\n",
       "DISENGAGEMENT\\nLOCATION\\n(Interstate, Freeway, Highway, Rural Road, Street, or Parking Facility)    0\n",
       "DESCRIPTION OF FACTS CAUSING DISENGAGEMENT                                                          0\n",
       "dtype: int64"
      ]
     },
     "execution_count": 9,
     "metadata": {},
     "output_type": "execute_result"
    }
   ],
   "source": [
    "reports2022.isnull().sum()"
   ]
  },
  {
   "cell_type": "code",
   "execution_count": 10,
   "id": "b8880d98-71a6-4ac2-b91c-4ec54b46a6f2",
   "metadata": {},
   "outputs": [
    {
     "data": {
      "text/plain": [
       "Manufacturer                                                                                        0\n",
       "Permit Number                                                                                       0\n",
       "DATE                                                                                                0\n",
       "VIN NUMBER                                                                                          0\n",
       "VEHICLE IS CAPABLE OF OPERATING WITHOUT A DRIVER\\n(Yes or No)                                       0\n",
       "DRIVER PRESENT\\n(Yes or No)                                                                         0\n",
       "DISENGAGEMENT INITIATED BY\\n(AV System, Test Driver, Remote Operator, or Passenger)                 0\n",
       "DISENGAGEMENT\\nLOCATION\\n(Interstate, Freeway, Highway, Rural Road, Street, or Parking Facility)    0\n",
       "DESCRIPTION OF FACTS CAUSING DISENGAGEMENT                                                          0\n",
       "dtype: int64"
      ]
     },
     "execution_count": 10,
     "metadata": {},
     "output_type": "execute_result"
    }
   ],
   "source": [
    "reports2021.isnull().sum()"
   ]
  },
  {
   "cell_type": "markdown",
   "id": "ecbf22ca-1d44-44a2-8010-1a810469c27e",
   "metadata": {},
   "source": [
    "upon inspection, all 6125 rows are missing data for all columns in reports2023, so dropping these rows will not impact the analysis."
   ]
  },
  {
   "cell_type": "code",
   "execution_count": 11,
   "id": "a330fbef-5935-442a-98d2-eae595a4086e",
   "metadata": {},
   "outputs": [
    {
     "data": {
      "text/html": [
       "<div>\n",
       "<style scoped>\n",
       "    .dataframe tbody tr th:only-of-type {\n",
       "        vertical-align: middle;\n",
       "    }\n",
       "\n",
       "    .dataframe tbody tr th {\n",
       "        vertical-align: top;\n",
       "    }\n",
       "\n",
       "    .dataframe thead th {\n",
       "        text-align: right;\n",
       "    }\n",
       "</style>\n",
       "<table border=\"1\" class=\"dataframe\">\n",
       "  <thead>\n",
       "    <tr style=\"text-align: right;\">\n",
       "      <th></th>\n",
       "      <th>Manufacturer</th>\n",
       "      <th>Permit Number</th>\n",
       "      <th>DATE</th>\n",
       "      <th>VIN NUMBER</th>\n",
       "      <th>VEHICLE IS CAPABLE OF OPERATING WITHOUT A DRIVER\\n(Yes or No)</th>\n",
       "      <th>DRIVER PRESENT\\n(Yes or No)</th>\n",
       "      <th>DISENGAGEMENT INITIATED BY\\n(AV System, Test Driver, Remote Operator, or Passenger)</th>\n",
       "      <th>DISENGAGEMENT\\nLOCATION\\n(Interstate, Freeway, Highway, Rural Road, Street, or Parking Facility)</th>\n",
       "      <th>DESCRIPTION OF FACTS CAUSING DISENGAGEMENT</th>\n",
       "    </tr>\n",
       "  </thead>\n",
       "  <tbody>\n",
       "    <tr>\n",
       "      <th>6562</th>\n",
       "      <td>NaN</td>\n",
       "      <td>NaN</td>\n",
       "      <td>NaT</td>\n",
       "      <td>NaN</td>\n",
       "      <td>NaN</td>\n",
       "      <td>NaN</td>\n",
       "      <td>NaN</td>\n",
       "      <td>NaN</td>\n",
       "      <td>NaN</td>\n",
       "    </tr>\n",
       "    <tr>\n",
       "      <th>6563</th>\n",
       "      <td>NaN</td>\n",
       "      <td>NaN</td>\n",
       "      <td>NaT</td>\n",
       "      <td>NaN</td>\n",
       "      <td>NaN</td>\n",
       "      <td>NaN</td>\n",
       "      <td>NaN</td>\n",
       "      <td>NaN</td>\n",
       "      <td>NaN</td>\n",
       "    </tr>\n",
       "    <tr>\n",
       "      <th>6564</th>\n",
       "      <td>NaN</td>\n",
       "      <td>NaN</td>\n",
       "      <td>NaT</td>\n",
       "      <td>NaN</td>\n",
       "      <td>NaN</td>\n",
       "      <td>NaN</td>\n",
       "      <td>NaN</td>\n",
       "      <td>NaN</td>\n",
       "      <td>NaN</td>\n",
       "    </tr>\n",
       "    <tr>\n",
       "      <th>6565</th>\n",
       "      <td>NaN</td>\n",
       "      <td>NaN</td>\n",
       "      <td>NaT</td>\n",
       "      <td>NaN</td>\n",
       "      <td>NaN</td>\n",
       "      <td>NaN</td>\n",
       "      <td>NaN</td>\n",
       "      <td>NaN</td>\n",
       "      <td>NaN</td>\n",
       "    </tr>\n",
       "    <tr>\n",
       "      <th>6566</th>\n",
       "      <td>NaN</td>\n",
       "      <td>NaN</td>\n",
       "      <td>NaT</td>\n",
       "      <td>NaN</td>\n",
       "      <td>NaN</td>\n",
       "      <td>NaN</td>\n",
       "      <td>NaN</td>\n",
       "      <td>NaN</td>\n",
       "      <td>NaN</td>\n",
       "    </tr>\n",
       "    <tr>\n",
       "      <th>...</th>\n",
       "      <td>...</td>\n",
       "      <td>...</td>\n",
       "      <td>...</td>\n",
       "      <td>...</td>\n",
       "      <td>...</td>\n",
       "      <td>...</td>\n",
       "      <td>...</td>\n",
       "      <td>...</td>\n",
       "      <td>...</td>\n",
       "    </tr>\n",
       "    <tr>\n",
       "      <th>12682</th>\n",
       "      <td>NaN</td>\n",
       "      <td>NaN</td>\n",
       "      <td>NaT</td>\n",
       "      <td>NaN</td>\n",
       "      <td>NaN</td>\n",
       "      <td>NaN</td>\n",
       "      <td>NaN</td>\n",
       "      <td>NaN</td>\n",
       "      <td>NaN</td>\n",
       "    </tr>\n",
       "    <tr>\n",
       "      <th>12683</th>\n",
       "      <td>NaN</td>\n",
       "      <td>NaN</td>\n",
       "      <td>NaT</td>\n",
       "      <td>NaN</td>\n",
       "      <td>NaN</td>\n",
       "      <td>NaN</td>\n",
       "      <td>NaN</td>\n",
       "      <td>NaN</td>\n",
       "      <td>NaN</td>\n",
       "    </tr>\n",
       "    <tr>\n",
       "      <th>12684</th>\n",
       "      <td>NaN</td>\n",
       "      <td>NaN</td>\n",
       "      <td>NaT</td>\n",
       "      <td>NaN</td>\n",
       "      <td>NaN</td>\n",
       "      <td>NaN</td>\n",
       "      <td>NaN</td>\n",
       "      <td>NaN</td>\n",
       "      <td>NaN</td>\n",
       "    </tr>\n",
       "    <tr>\n",
       "      <th>12685</th>\n",
       "      <td>NaN</td>\n",
       "      <td>NaN</td>\n",
       "      <td>NaT</td>\n",
       "      <td>NaN</td>\n",
       "      <td>NaN</td>\n",
       "      <td>NaN</td>\n",
       "      <td>NaN</td>\n",
       "      <td>NaN</td>\n",
       "      <td>NaN</td>\n",
       "    </tr>\n",
       "    <tr>\n",
       "      <th>12686</th>\n",
       "      <td>NaN</td>\n",
       "      <td>NaN</td>\n",
       "      <td>NaT</td>\n",
       "      <td>NaN</td>\n",
       "      <td>NaN</td>\n",
       "      <td>NaN</td>\n",
       "      <td>NaN</td>\n",
       "      <td>NaN</td>\n",
       "      <td>NaN</td>\n",
       "    </tr>\n",
       "  </tbody>\n",
       "</table>\n",
       "<p>6125 rows × 9 columns</p>\n",
       "</div>"
      ],
      "text/plain": [
       "      Manufacturer Permit Number DATE VIN NUMBER  \\\n",
       "6562           NaN           NaN  NaT        NaN   \n",
       "6563           NaN           NaN  NaT        NaN   \n",
       "6564           NaN           NaN  NaT        NaN   \n",
       "6565           NaN           NaN  NaT        NaN   \n",
       "6566           NaN           NaN  NaT        NaN   \n",
       "...            ...           ...  ...        ...   \n",
       "12682          NaN           NaN  NaT        NaN   \n",
       "12683          NaN           NaN  NaT        NaN   \n",
       "12684          NaN           NaN  NaT        NaN   \n",
       "12685          NaN           NaN  NaT        NaN   \n",
       "12686          NaN           NaN  NaT        NaN   \n",
       "\n",
       "      VEHICLE IS CAPABLE OF OPERATING WITHOUT A DRIVER\\n(Yes or No)  \\\n",
       "6562                                                 NaN              \n",
       "6563                                                 NaN              \n",
       "6564                                                 NaN              \n",
       "6565                                                 NaN              \n",
       "6566                                                 NaN              \n",
       "...                                                  ...              \n",
       "12682                                                NaN              \n",
       "12683                                                NaN              \n",
       "12684                                                NaN              \n",
       "12685                                                NaN              \n",
       "12686                                                NaN              \n",
       "\n",
       "      DRIVER PRESENT\\n(Yes or No)  \\\n",
       "6562                          NaN   \n",
       "6563                          NaN   \n",
       "6564                          NaN   \n",
       "6565                          NaN   \n",
       "6566                          NaN   \n",
       "...                           ...   \n",
       "12682                         NaN   \n",
       "12683                         NaN   \n",
       "12684                         NaN   \n",
       "12685                         NaN   \n",
       "12686                         NaN   \n",
       "\n",
       "      DISENGAGEMENT INITIATED BY\\n(AV System, Test Driver, Remote Operator, or Passenger)  \\\n",
       "6562                                                 NaN                                    \n",
       "6563                                                 NaN                                    \n",
       "6564                                                 NaN                                    \n",
       "6565                                                 NaN                                    \n",
       "6566                                                 NaN                                    \n",
       "...                                                  ...                                    \n",
       "12682                                                NaN                                    \n",
       "12683                                                NaN                                    \n",
       "12684                                                NaN                                    \n",
       "12685                                                NaN                                    \n",
       "12686                                                NaN                                    \n",
       "\n",
       "      DISENGAGEMENT\\nLOCATION\\n(Interstate, Freeway, Highway, Rural Road, Street, or Parking Facility)  \\\n",
       "6562                                                 NaN                                                 \n",
       "6563                                                 NaN                                                 \n",
       "6564                                                 NaN                                                 \n",
       "6565                                                 NaN                                                 \n",
       "6566                                                 NaN                                                 \n",
       "...                                                  ...                                                 \n",
       "12682                                                NaN                                                 \n",
       "12683                                                NaN                                                 \n",
       "12684                                                NaN                                                 \n",
       "12685                                                NaN                                                 \n",
       "12686                                                NaN                                                 \n",
       "\n",
       "      DESCRIPTION OF FACTS CAUSING DISENGAGEMENT  \n",
       "6562                                         NaN  \n",
       "6563                                         NaN  \n",
       "6564                                         NaN  \n",
       "6565                                         NaN  \n",
       "6566                                         NaN  \n",
       "...                                          ...  \n",
       "12682                                        NaN  \n",
       "12683                                        NaN  \n",
       "12684                                        NaN  \n",
       "12685                                        NaN  \n",
       "12686                                        NaN  \n",
       "\n",
       "[6125 rows x 9 columns]"
      ]
     },
     "execution_count": 11,
     "metadata": {},
     "output_type": "execute_result"
    }
   ],
   "source": [
    "reports2023[reports2023.isna().any(axis=1)]"
   ]
  },
  {
   "cell_type": "code",
   "execution_count": 12,
   "id": "080a72c1-062c-456d-a09e-fb6229232c79",
   "metadata": {},
   "outputs": [],
   "source": [
    "reports2023.dropna(inplace = True)"
   ]
  },
  {
   "cell_type": "code",
   "execution_count": 13,
   "id": "41ad7e07-5a12-405b-8ab1-e53c9a3b13f7",
   "metadata": {},
   "outputs": [
    {
     "data": {
      "text/plain": [
       "Manufacturer                                                                                        0\n",
       "Permit Number                                                                                       0\n",
       "DATE                                                                                                0\n",
       "VIN NUMBER                                                                                          0\n",
       "VEHICLE IS CAPABLE OF OPERATING WITHOUT A DRIVER\\n(Yes or No)                                       0\n",
       "DRIVER PRESENT\\n(Yes or No)                                                                         0\n",
       "DISENGAGEMENT INITIATED BY\\n(AV System, Test Driver, Remote Operator, or Passenger)                 0\n",
       "DISENGAGEMENT\\nLOCATION\\n(Interstate, Freeway, Highway, Rural Road, Street, or Parking Facility)    0\n",
       "DESCRIPTION OF FACTS CAUSING DISENGAGEMENT                                                          0\n",
       "dtype: int64"
      ]
     },
     "execution_count": 13,
     "metadata": {},
     "output_type": "execute_result"
    }
   ],
   "source": [
    "reports2023.isnull().sum()"
   ]
  },
  {
   "cell_type": "markdown",
   "id": "00ea7752-f1da-4acb-8d84-0d02f4b18c99",
   "metadata": {},
   "source": [
    "## 5. Create New Features"
   ]
  },
  {
   "cell_type": "markdown",
   "id": "ea3dab23-d9fd-4a5a-b4d9-5d4f3a93b96a",
   "metadata": {},
   "source": [
    "#### Incident Day of the Week"
   ]
  },
  {
   "cell_type": "markdown",
   "id": "364500ac-45fc-4065-ab20-dfc7b9ba1f8a",
   "metadata": {},
   "source": [
    "create a new column to store the \" incident day of the week\" in which the disengagement incident occurred. Use dt.day_name() to find the day of the week.\n",
    "https://pandas.pydata.org/pandas-docs/stable/reference/api/pandas.Series.dt.day_name.html"
   ]
  },
  {
   "cell_type": "code",
   "execution_count": 14,
   "id": "9bb405b9-07b9-48f1-bda2-0d94ab7ad728",
   "metadata": {},
   "outputs": [],
   "source": [
    "reports2023['incident_day_of_week'] =reports2023['DATE'].dt.day_name()\n",
    "reports2022['incident_day_of_week'] =reports2022['DATE'].dt.day_name()\n",
    "reports2021['incident_day_of_week'] =reports2021['DATE'].dt.day_name()"
   ]
  },
  {
   "cell_type": "markdown",
   "id": "0a525fde-0118-4d40-a884-5955d367aa2d",
   "metadata": {},
   "source": [
    "#### Incident Month"
   ]
  },
  {
   "cell_type": "markdown",
   "id": "b6c2c601-e8ff-4d89-845d-1ecd25907ad4",
   "metadata": {},
   "source": [
    "create a new column to store the \"incident month\" in which the disengagement incident occurred.Use dt.month_name() to find the month."
   ]
  },
  {
   "cell_type": "code",
   "execution_count": 15,
   "id": "f867397e-bf75-4364-866c-89d722ac461d",
   "metadata": {},
   "outputs": [],
   "source": [
    "reports2023['incident_month'] = reports2023['DATE'].dt.month_name()\n",
    "reports2022['incident_month'] = reports2022['DATE'].dt.month_name()\n",
    "reports2021['incident_month'] = reports2021['DATE'].dt.month_name()"
   ]
  },
  {
   "cell_type": "code",
   "execution_count": 16,
   "id": "f99c432d-8a29-4e9a-8cff-98bde9139f07",
   "metadata": {},
   "outputs": [
    {
     "data": {
      "text/html": [
       "<div>\n",
       "<style scoped>\n",
       "    .dataframe tbody tr th:only-of-type {\n",
       "        vertical-align: middle;\n",
       "    }\n",
       "\n",
       "    .dataframe tbody tr th {\n",
       "        vertical-align: top;\n",
       "    }\n",
       "\n",
       "    .dataframe thead th {\n",
       "        text-align: right;\n",
       "    }\n",
       "</style>\n",
       "<table border=\"1\" class=\"dataframe\">\n",
       "  <thead>\n",
       "    <tr style=\"text-align: right;\">\n",
       "      <th></th>\n",
       "      <th>Manufacturer</th>\n",
       "      <th>Permit Number</th>\n",
       "      <th>DATE</th>\n",
       "      <th>VIN NUMBER</th>\n",
       "      <th>VEHICLE IS CAPABLE OF OPERATING WITHOUT A DRIVER\\n(Yes or No)</th>\n",
       "      <th>DRIVER PRESENT\\n(Yes or No)</th>\n",
       "      <th>DISENGAGEMENT INITIATED BY\\n(AV System, Test Driver, Remote Operator, or Passenger)</th>\n",
       "      <th>DISENGAGEMENT\\nLOCATION\\n(Interstate, Freeway, Highway, Rural Road, Street, or Parking Facility)</th>\n",
       "      <th>DESCRIPTION OF FACTS CAUSING DISENGAGEMENT</th>\n",
       "      <th>incident_day_of_week</th>\n",
       "      <th>incident_month</th>\n",
       "    </tr>\n",
       "  </thead>\n",
       "  <tbody>\n",
       "    <tr>\n",
       "      <th>0</th>\n",
       "      <td>aiMotive Inc.</td>\n",
       "      <td>AVT036</td>\n",
       "      <td>2022-12-06</td>\n",
       "      <td>4T1B21HK6KU514747</td>\n",
       "      <td>No</td>\n",
       "      <td>Yes</td>\n",
       "      <td>Test driver, AV system</td>\n",
       "      <td>Freeway</td>\n",
       "      <td>Safety Driver disengaged autonomous mode upon ...</td>\n",
       "      <td>Tuesday</td>\n",
       "      <td>December</td>\n",
       "    </tr>\n",
       "    <tr>\n",
       "      <th>1</th>\n",
       "      <td>aiMotive Inc.</td>\n",
       "      <td>AVT036</td>\n",
       "      <td>2022-12-06</td>\n",
       "      <td>4T1B21HK3KU514477</td>\n",
       "      <td>No</td>\n",
       "      <td>Yes</td>\n",
       "      <td>Test driver, AV system</td>\n",
       "      <td>Freeway</td>\n",
       "      <td>Safety Driver disengaged autonomous mode due d...</td>\n",
       "      <td>Tuesday</td>\n",
       "      <td>December</td>\n",
       "    </tr>\n",
       "    <tr>\n",
       "      <th>2</th>\n",
       "      <td>aiMotive Inc.</td>\n",
       "      <td>AVT036</td>\n",
       "      <td>2022-12-08</td>\n",
       "      <td>4T1B21HK6KU514747</td>\n",
       "      <td>No</td>\n",
       "      <td>Yes</td>\n",
       "      <td>Test driver, AV system</td>\n",
       "      <td>Freeway</td>\n",
       "      <td>Safety Driver disengaged autonomous mode due t...</td>\n",
       "      <td>Thursday</td>\n",
       "      <td>December</td>\n",
       "    </tr>\n",
       "    <tr>\n",
       "      <th>3</th>\n",
       "      <td>aiMotive Inc.</td>\n",
       "      <td>AVT036</td>\n",
       "      <td>2022-12-08</td>\n",
       "      <td>4T1B21HK6KU514747</td>\n",
       "      <td>No</td>\n",
       "      <td>Yes</td>\n",
       "      <td>Test driver, AV system</td>\n",
       "      <td>Freeway</td>\n",
       "      <td>Safety Driver disengaged autonomous mode upon ...</td>\n",
       "      <td>Thursday</td>\n",
       "      <td>December</td>\n",
       "    </tr>\n",
       "    <tr>\n",
       "      <th>4</th>\n",
       "      <td>aiMotive Inc.</td>\n",
       "      <td>AVT036</td>\n",
       "      <td>2022-12-08</td>\n",
       "      <td>4T1B21HK3KU514477</td>\n",
       "      <td>No</td>\n",
       "      <td>Yes</td>\n",
       "      <td>Test driver, AV system</td>\n",
       "      <td>Highway</td>\n",
       "      <td>Safety Driver disengaged autonomous mode as a ...</td>\n",
       "      <td>Thursday</td>\n",
       "      <td>December</td>\n",
       "    </tr>\n",
       "  </tbody>\n",
       "</table>\n",
       "</div>"
      ],
      "text/plain": [
       "    Manufacturer Permit Number       DATE         VIN NUMBER  \\\n",
       "0  aiMotive Inc.        AVT036 2022-12-06  4T1B21HK6KU514747   \n",
       "1  aiMotive Inc.        AVT036 2022-12-06  4T1B21HK3KU514477   \n",
       "2  aiMotive Inc.        AVT036 2022-12-08  4T1B21HK6KU514747   \n",
       "3  aiMotive Inc.        AVT036 2022-12-08  4T1B21HK6KU514747   \n",
       "4  aiMotive Inc.        AVT036 2022-12-08  4T1B21HK3KU514477   \n",
       "\n",
       "  VEHICLE IS CAPABLE OF OPERATING WITHOUT A DRIVER\\n(Yes or No)  \\\n",
       "0                                                 No              \n",
       "1                                                 No              \n",
       "2                                                 No              \n",
       "3                                                 No              \n",
       "4                                                 No              \n",
       "\n",
       "  DRIVER PRESENT\\n(Yes or No)  \\\n",
       "0                         Yes   \n",
       "1                         Yes   \n",
       "2                         Yes   \n",
       "3                         Yes   \n",
       "4                         Yes   \n",
       "\n",
       "  DISENGAGEMENT INITIATED BY\\n(AV System, Test Driver, Remote Operator, or Passenger)  \\\n",
       "0                             Test driver, AV system                                    \n",
       "1                             Test driver, AV system                                    \n",
       "2                             Test driver, AV system                                    \n",
       "3                             Test driver, AV system                                    \n",
       "4                             Test driver, AV system                                    \n",
       "\n",
       "  DISENGAGEMENT\\nLOCATION\\n(Interstate, Freeway, Highway, Rural Road, Street, or Parking Facility)  \\\n",
       "0                                            Freeway                                                 \n",
       "1                                            Freeway                                                 \n",
       "2                                            Freeway                                                 \n",
       "3                                            Freeway                                                 \n",
       "4                                            Highway                                                 \n",
       "\n",
       "          DESCRIPTION OF FACTS CAUSING DISENGAGEMENT incident_day_of_week  \\\n",
       "0  Safety Driver disengaged autonomous mode upon ...              Tuesday   \n",
       "1  Safety Driver disengaged autonomous mode due d...              Tuesday   \n",
       "2  Safety Driver disengaged autonomous mode due t...             Thursday   \n",
       "3  Safety Driver disengaged autonomous mode upon ...             Thursday   \n",
       "4  Safety Driver disengaged autonomous mode as a ...             Thursday   \n",
       "\n",
       "  incident_month  \n",
       "0       December  \n",
       "1       December  \n",
       "2       December  \n",
       "3       December  \n",
       "4       December  "
      ]
     },
     "execution_count": 16,
     "metadata": {},
     "output_type": "execute_result"
    }
   ],
   "source": [
    "reports2023.head()"
   ]
  },
  {
   "cell_type": "code",
   "execution_count": 17,
   "id": "674b9032-827d-4212-ad6d-971299214271",
   "metadata": {},
   "outputs": [
    {
     "data": {
      "text/html": [
       "<div>\n",
       "<style scoped>\n",
       "    .dataframe tbody tr th:only-of-type {\n",
       "        vertical-align: middle;\n",
       "    }\n",
       "\n",
       "    .dataframe tbody tr th {\n",
       "        vertical-align: top;\n",
       "    }\n",
       "\n",
       "    .dataframe thead th {\n",
       "        text-align: right;\n",
       "    }\n",
       "</style>\n",
       "<table border=\"1\" class=\"dataframe\">\n",
       "  <thead>\n",
       "    <tr style=\"text-align: right;\">\n",
       "      <th></th>\n",
       "      <th>Manufacturer</th>\n",
       "      <th>Permit Number</th>\n",
       "      <th>DATE</th>\n",
       "      <th>VIN NUMBER</th>\n",
       "      <th>VEHICLE IS CAPABLE OF OPERATING WITHOUT A DRIVER\\n(Yes or No)</th>\n",
       "      <th>DRIVER PRESENT\\n(Yes or No)</th>\n",
       "      <th>DISENGAGEMENT INITIATED BY\\n(AV System, Test Driver, Remote Operator, or Passenger)</th>\n",
       "      <th>DISENGAGEMENT\\nLOCATION\\n(Interstate, Freeway, Highway, Rural Road, Street, or Parking Facility)</th>\n",
       "      <th>DESCRIPTION OF FACTS CAUSING DISENGAGEMENT</th>\n",
       "      <th>incident_day_of_week</th>\n",
       "      <th>incident_month</th>\n",
       "    </tr>\n",
       "  </thead>\n",
       "  <tbody>\n",
       "    <tr>\n",
       "      <th>0</th>\n",
       "      <td>AIMOTIVE INC.</td>\n",
       "      <td>AVT036</td>\n",
       "      <td>2021-12-06 10:39:23</td>\n",
       "      <td>4T1B21HK6KU514747</td>\n",
       "      <td>No</td>\n",
       "      <td>Yes</td>\n",
       "      <td>Test driver</td>\n",
       "      <td>Freeway</td>\n",
       "      <td>During the lane change the test vehicle could ...</td>\n",
       "      <td>Monday</td>\n",
       "      <td>December</td>\n",
       "    </tr>\n",
       "    <tr>\n",
       "      <th>1</th>\n",
       "      <td>AIMOTIVE INC.</td>\n",
       "      <td>AVT036</td>\n",
       "      <td>2021-12-06 13:18:07</td>\n",
       "      <td>4T1B21HK6KU514747</td>\n",
       "      <td>No</td>\n",
       "      <td>Yes</td>\n",
       "      <td>Test driver</td>\n",
       "      <td>Freeway</td>\n",
       "      <td>During the lane change the test vehicle could ...</td>\n",
       "      <td>Monday</td>\n",
       "      <td>December</td>\n",
       "    </tr>\n",
       "    <tr>\n",
       "      <th>2</th>\n",
       "      <td>AIMOTIVE INC.</td>\n",
       "      <td>AVT036</td>\n",
       "      <td>2021-12-06 14:13:57</td>\n",
       "      <td>4T1B21HK6KU514747</td>\n",
       "      <td>No</td>\n",
       "      <td>Yes</td>\n",
       "      <td>Test driver</td>\n",
       "      <td>Freeway</td>\n",
       "      <td>During the lane change the test vehicle could ...</td>\n",
       "      <td>Monday</td>\n",
       "      <td>December</td>\n",
       "    </tr>\n",
       "    <tr>\n",
       "      <th>3</th>\n",
       "      <td>AIMOTIVE INC.</td>\n",
       "      <td>AVT036</td>\n",
       "      <td>2021-12-06 14:29:15</td>\n",
       "      <td>4T1B21HK6KU514747</td>\n",
       "      <td>No</td>\n",
       "      <td>Yes</td>\n",
       "      <td>Test driver</td>\n",
       "      <td>Freeway</td>\n",
       "      <td>Another vehicle approaching target lane when t...</td>\n",
       "      <td>Monday</td>\n",
       "      <td>December</td>\n",
       "    </tr>\n",
       "    <tr>\n",
       "      <th>4</th>\n",
       "      <td>AIMOTIVE INC.</td>\n",
       "      <td>AVT036</td>\n",
       "      <td>2021-12-06 14:34:06</td>\n",
       "      <td>4T1B21HK6KU514747</td>\n",
       "      <td>No</td>\n",
       "      <td>Yes</td>\n",
       "      <td>Test driver</td>\n",
       "      <td>Freeway</td>\n",
       "      <td>During the lane change the test vehicle could ...</td>\n",
       "      <td>Monday</td>\n",
       "      <td>December</td>\n",
       "    </tr>\n",
       "  </tbody>\n",
       "</table>\n",
       "</div>"
      ],
      "text/plain": [
       "    Manufacturer Permit Number                DATE         VIN NUMBER  \\\n",
       "0  AIMOTIVE INC.        AVT036 2021-12-06 10:39:23  4T1B21HK6KU514747   \n",
       "1  AIMOTIVE INC.        AVT036 2021-12-06 13:18:07  4T1B21HK6KU514747   \n",
       "2  AIMOTIVE INC.        AVT036 2021-12-06 14:13:57  4T1B21HK6KU514747   \n",
       "3  AIMOTIVE INC.        AVT036 2021-12-06 14:29:15  4T1B21HK6KU514747   \n",
       "4  AIMOTIVE INC.        AVT036 2021-12-06 14:34:06  4T1B21HK6KU514747   \n",
       "\n",
       "  VEHICLE IS CAPABLE OF OPERATING WITHOUT A DRIVER\\n(Yes or No)  \\\n",
       "0                                                 No              \n",
       "1                                                 No              \n",
       "2                                                 No              \n",
       "3                                                 No              \n",
       "4                                                 No              \n",
       "\n",
       "  DRIVER PRESENT\\n(Yes or No)  \\\n",
       "0                         Yes   \n",
       "1                         Yes   \n",
       "2                         Yes   \n",
       "3                         Yes   \n",
       "4                         Yes   \n",
       "\n",
       "  DISENGAGEMENT INITIATED BY\\n(AV System, Test Driver, Remote Operator, or Passenger)  \\\n",
       "0                                        Test driver                                    \n",
       "1                                        Test driver                                    \n",
       "2                                        Test driver                                    \n",
       "3                                        Test driver                                    \n",
       "4                                        Test driver                                    \n",
       "\n",
       "  DISENGAGEMENT\\nLOCATION\\n(Interstate, Freeway, Highway, Rural Road, Street, or Parking Facility)  \\\n",
       "0                                            Freeway                                                 \n",
       "1                                            Freeway                                                 \n",
       "2                                            Freeway                                                 \n",
       "3                                            Freeway                                                 \n",
       "4                                            Freeway                                                 \n",
       "\n",
       "          DESCRIPTION OF FACTS CAUSING DISENGAGEMENT incident_day_of_week  \\\n",
       "0  During the lane change the test vehicle could ...               Monday   \n",
       "1  During the lane change the test vehicle could ...               Monday   \n",
       "2  During the lane change the test vehicle could ...               Monday   \n",
       "3  Another vehicle approaching target lane when t...               Monday   \n",
       "4  During the lane change the test vehicle could ...               Monday   \n",
       "\n",
       "  incident_month  \n",
       "0       December  \n",
       "1       December  \n",
       "2       December  \n",
       "3       December  \n",
       "4       December  "
      ]
     },
     "execution_count": 17,
     "metadata": {},
     "output_type": "execute_result"
    }
   ],
   "source": [
    "reports2022.head()"
   ]
  },
  {
   "cell_type": "code",
   "execution_count": 18,
   "id": "13dae7df-965b-4924-a0c1-5b2796f4b7ac",
   "metadata": {},
   "outputs": [
    {
     "data": {
      "text/html": [
       "<div>\n",
       "<style scoped>\n",
       "    .dataframe tbody tr th:only-of-type {\n",
       "        vertical-align: middle;\n",
       "    }\n",
       "\n",
       "    .dataframe tbody tr th {\n",
       "        vertical-align: top;\n",
       "    }\n",
       "\n",
       "    .dataframe thead th {\n",
       "        text-align: right;\n",
       "    }\n",
       "</style>\n",
       "<table border=\"1\" class=\"dataframe\">\n",
       "  <thead>\n",
       "    <tr style=\"text-align: right;\">\n",
       "      <th></th>\n",
       "      <th>Manufacturer</th>\n",
       "      <th>Permit Number</th>\n",
       "      <th>DATE</th>\n",
       "      <th>VIN NUMBER</th>\n",
       "      <th>VEHICLE IS CAPABLE OF OPERATING WITHOUT A DRIVER\\n(Yes or No)</th>\n",
       "      <th>DRIVER PRESENT\\n(Yes or No)</th>\n",
       "      <th>DISENGAGEMENT INITIATED BY\\n(AV System, Test Driver, Remote Operator, or Passenger)</th>\n",
       "      <th>DISENGAGEMENT\\nLOCATION\\n(Interstate, Freeway, Highway, Rural Road, Street, or Parking Facility)</th>\n",
       "      <th>DESCRIPTION OF FACTS CAUSING DISENGAGEMENT</th>\n",
       "      <th>incident_day_of_week</th>\n",
       "      <th>incident_month</th>\n",
       "    </tr>\n",
       "  </thead>\n",
       "  <tbody>\n",
       "    <tr>\n",
       "      <th>0</th>\n",
       "      <td>AIMOTIVE INC.</td>\n",
       "      <td>AVT036</td>\n",
       "      <td>2021-03-04</td>\n",
       "      <td>JTDKN3DU9A0059509</td>\n",
       "      <td>No</td>\n",
       "      <td>Yes</td>\n",
       "      <td>Test Driver</td>\n",
       "      <td>Freeway</td>\n",
       "      <td>During an exit/merge the test vehicle was goin...</td>\n",
       "      <td>Thursday</td>\n",
       "      <td>March</td>\n",
       "    </tr>\n",
       "    <tr>\n",
       "      <th>1</th>\n",
       "      <td>AIMOTIVE INC.</td>\n",
       "      <td>AVT036</td>\n",
       "      <td>2021-03-16</td>\n",
       "      <td>JTDKN3DU9A0059509</td>\n",
       "      <td>No</td>\n",
       "      <td>Yes</td>\n",
       "      <td>Test Driver</td>\n",
       "      <td>Freeway</td>\n",
       "      <td>Exit/Merge Lane departure, due to the car miss...</td>\n",
       "      <td>Tuesday</td>\n",
       "      <td>March</td>\n",
       "    </tr>\n",
       "    <tr>\n",
       "      <th>2</th>\n",
       "      <td>AIMOTIVE INC.</td>\n",
       "      <td>AVT036</td>\n",
       "      <td>2021-03-16</td>\n",
       "      <td>JTDKN3DU9A0059509</td>\n",
       "      <td>No</td>\n",
       "      <td>Yes</td>\n",
       "      <td>Test Driver</td>\n",
       "      <td>Freeway</td>\n",
       "      <td>Exit/Merge Lane departure, due to the car miss...</td>\n",
       "      <td>Tuesday</td>\n",
       "      <td>March</td>\n",
       "    </tr>\n",
       "    <tr>\n",
       "      <th>3</th>\n",
       "      <td>AIMOTIVE INC.</td>\n",
       "      <td>AVT036</td>\n",
       "      <td>2021-03-16</td>\n",
       "      <td>JTDKN3DU9A0059509</td>\n",
       "      <td>No</td>\n",
       "      <td>Yes</td>\n",
       "      <td>Test Driver</td>\n",
       "      <td>Freeway</td>\n",
       "      <td>During an exit/merge the test vehicle was goin...</td>\n",
       "      <td>Tuesday</td>\n",
       "      <td>March</td>\n",
       "    </tr>\n",
       "    <tr>\n",
       "      <th>4</th>\n",
       "      <td>AIMOTIVE INC.</td>\n",
       "      <td>AVT036</td>\n",
       "      <td>2021-04-02</td>\n",
       "      <td>JTDKN3DU9A0059509</td>\n",
       "      <td>No</td>\n",
       "      <td>Yes</td>\n",
       "      <td>Test Driver</td>\n",
       "      <td>Freeway</td>\n",
       "      <td>The car should have stayed in the left lane, b...</td>\n",
       "      <td>Friday</td>\n",
       "      <td>April</td>\n",
       "    </tr>\n",
       "  </tbody>\n",
       "</table>\n",
       "</div>"
      ],
      "text/plain": [
       "    Manufacturer Permit Number       DATE         VIN NUMBER  \\\n",
       "0  AIMOTIVE INC.        AVT036 2021-03-04  JTDKN3DU9A0059509   \n",
       "1  AIMOTIVE INC.        AVT036 2021-03-16  JTDKN3DU9A0059509   \n",
       "2  AIMOTIVE INC.        AVT036 2021-03-16  JTDKN3DU9A0059509   \n",
       "3  AIMOTIVE INC.        AVT036 2021-03-16  JTDKN3DU9A0059509   \n",
       "4  AIMOTIVE INC.        AVT036 2021-04-02  JTDKN3DU9A0059509   \n",
       "\n",
       "  VEHICLE IS CAPABLE OF OPERATING WITHOUT A DRIVER\\n(Yes or No)  \\\n",
       "0                                                 No              \n",
       "1                                                 No              \n",
       "2                                                 No              \n",
       "3                                                 No              \n",
       "4                                                 No              \n",
       "\n",
       "  DRIVER PRESENT\\n(Yes or No)  \\\n",
       "0                         Yes   \n",
       "1                         Yes   \n",
       "2                         Yes   \n",
       "3                         Yes   \n",
       "4                         Yes   \n",
       "\n",
       "  DISENGAGEMENT INITIATED BY\\n(AV System, Test Driver, Remote Operator, or Passenger)  \\\n",
       "0                                        Test Driver                                    \n",
       "1                                        Test Driver                                    \n",
       "2                                        Test Driver                                    \n",
       "3                                        Test Driver                                    \n",
       "4                                        Test Driver                                    \n",
       "\n",
       "  DISENGAGEMENT\\nLOCATION\\n(Interstate, Freeway, Highway, Rural Road, Street, or Parking Facility)  \\\n",
       "0                                            Freeway                                                 \n",
       "1                                            Freeway                                                 \n",
       "2                                            Freeway                                                 \n",
       "3                                            Freeway                                                 \n",
       "4                                            Freeway                                                 \n",
       "\n",
       "          DESCRIPTION OF FACTS CAUSING DISENGAGEMENT incident_day_of_week  \\\n",
       "0  During an exit/merge the test vehicle was goin...             Thursday   \n",
       "1  Exit/Merge Lane departure, due to the car miss...              Tuesday   \n",
       "2  Exit/Merge Lane departure, due to the car miss...              Tuesday   \n",
       "3  During an exit/merge the test vehicle was goin...              Tuesday   \n",
       "4  The car should have stayed in the left lane, b...               Friday   \n",
       "\n",
       "  incident_month  \n",
       "0          March  \n",
       "1          March  \n",
       "2          March  \n",
       "3          March  \n",
       "4          April  "
      ]
     },
     "execution_count": 18,
     "metadata": {},
     "output_type": "execute_result"
    }
   ],
   "source": [
    "reports2021.head()"
   ]
  },
  {
   "cell_type": "markdown",
   "id": "835349dd-0e7a-4be4-9372-30bdc430e4ca",
   "metadata": {},
   "source": [
    "### combine all 3 dfs"
   ]
  },
  {
   "cell_type": "code",
   "execution_count": 19,
   "id": "3f711125-b745-4165-86fe-f4e8e2b14cb4",
   "metadata": {},
   "outputs": [],
   "source": [
    "reports_full = pd.concat([reports2023, reports2022, reports2021], axis = 0)"
   ]
  },
  {
   "cell_type": "markdown",
   "id": "3209bae3-7393-4b73-94c3-7072897839fc",
   "metadata": {},
   "source": [
    "check if there are any null data."
   ]
  },
  {
   "cell_type": "code",
   "execution_count": 20,
   "id": "c05dbaf2-e2f8-485e-a535-ec368bbde8fb",
   "metadata": {},
   "outputs": [
    {
     "data": {
      "text/plain": [
       "Manufacturer                                                                                        0\n",
       "Permit Number                                                                                       0\n",
       "DATE                                                                                                0\n",
       "VIN NUMBER                                                                                          0\n",
       "VEHICLE IS CAPABLE OF OPERATING WITHOUT A DRIVER\\n(Yes or No)                                       0\n",
       "DRIVER PRESENT\\n(Yes or No)                                                                         0\n",
       "DISENGAGEMENT INITIATED BY\\n(AV System, Test Driver, Remote Operator, or Passenger)                 0\n",
       "DISENGAGEMENT\\nLOCATION\\n(Interstate, Freeway, Highway, Rural Road, Street, or Parking Facility)    0\n",
       "DESCRIPTION OF FACTS CAUSING DISENGAGEMENT                                                          0\n",
       "incident_day_of_week                                                                                0\n",
       "incident_month                                                                                      0\n",
       "dtype: int64"
      ]
     },
     "execution_count": 20,
     "metadata": {},
     "output_type": "execute_result"
    }
   ],
   "source": [
    "reports_full.isnull().sum()"
   ]
  },
  {
   "cell_type": "markdown",
   "id": "ef05a897-ad36-48ff-8261-2a87f0bd6508",
   "metadata": {},
   "source": [
    "### relabel column names for consistency"
   ]
  },
  {
   "cell_type": "code",
   "execution_count": 21,
   "id": "0226691b-ee67-44ac-b122-8ad8b2b3e88a",
   "metadata": {},
   "outputs": [
    {
     "data": {
      "text/plain": [
       "Index(['Manufacturer', 'Permit Number', 'DATE', 'VIN NUMBER',\n",
       "       'VEHICLE IS CAPABLE OF OPERATING WITHOUT A DRIVER\\n(Yes or No)',\n",
       "       'DRIVER PRESENT\\n(Yes or No)',\n",
       "       'DISENGAGEMENT INITIATED BY\\n(AV System, Test Driver, Remote Operator, or Passenger)',\n",
       "       'DISENGAGEMENT\\nLOCATION\\n(Interstate, Freeway, Highway, Rural Road, Street, or Parking Facility)',\n",
       "       'DESCRIPTION OF FACTS CAUSING DISENGAGEMENT', 'incident_day_of_week',\n",
       "       'incident_month'],\n",
       "      dtype='object')"
      ]
     },
     "execution_count": 21,
     "metadata": {},
     "output_type": "execute_result"
    }
   ],
   "source": [
    "reports_full.columns"
   ]
  },
  {
   "cell_type": "code",
   "execution_count": 22,
   "id": "de9baf97-0b60-48f4-86d6-b11884fcb4e2",
   "metadata": {},
   "outputs": [],
   "source": [
    "new_column_names = {\n",
    "    'Manufacturer': 'manufacturer',\n",
    "    'Permit Number': 'permit_number',\n",
    "    'DATE': 'date',\n",
    "    'VIN NUMBER': 'vin',\n",
    "    'VEHICLE IS CAPABLE OF OPERATING WITHOUT A DRIVER\\n(Yes or No)': 'capable_without_driver',\n",
    "    'DRIVER PRESENT\\n(Yes or No)': 'driver_present',\n",
    "    'DISENGAGEMENT INITIATED BY\\n(AV System, Test Driver, Remote Operator, or Passenger)': 'disengagement_initiated_by',\n",
    "    'DISENGAGEMENT\\nLOCATION\\n(Interstate, Freeway, Highway, Rural Road, Street, or Parking Facility)': 'disengagement_location',\n",
    "    'DESCRIPTION OF FACTS CAUSING DISENGAGEMENT': 'disengagement_description',\n",
    "    'incident_day_of_week': 'incident_day_of_week',\n",
    "    'incident_month': 'incident_month'\n",
    "}"
   ]
  },
  {
   "cell_type": "code",
   "execution_count": 23,
   "id": "704045e1-9add-4e35-994d-ffc7a7d06c91",
   "metadata": {},
   "outputs": [],
   "source": [
    "reports_full.rename(columns=new_column_names, inplace=True)"
   ]
  },
  {
   "cell_type": "code",
   "execution_count": 24,
   "id": "557e6e0a-7143-4d18-8c77-19d246e900a0",
   "metadata": {},
   "outputs": [
    {
     "data": {
      "text/html": [
       "<div>\n",
       "<style scoped>\n",
       "    .dataframe tbody tr th:only-of-type {\n",
       "        vertical-align: middle;\n",
       "    }\n",
       "\n",
       "    .dataframe tbody tr th {\n",
       "        vertical-align: top;\n",
       "    }\n",
       "\n",
       "    .dataframe thead th {\n",
       "        text-align: right;\n",
       "    }\n",
       "</style>\n",
       "<table border=\"1\" class=\"dataframe\">\n",
       "  <thead>\n",
       "    <tr style=\"text-align: right;\">\n",
       "      <th></th>\n",
       "      <th>manufacturer</th>\n",
       "      <th>permit_number</th>\n",
       "      <th>date</th>\n",
       "      <th>vin</th>\n",
       "      <th>capable_without_driver</th>\n",
       "      <th>driver_present</th>\n",
       "      <th>disengagement_initiated_by</th>\n",
       "      <th>disengagement_location</th>\n",
       "      <th>disengagement_description</th>\n",
       "      <th>incident_day_of_week</th>\n",
       "      <th>incident_month</th>\n",
       "    </tr>\n",
       "  </thead>\n",
       "  <tbody>\n",
       "    <tr>\n",
       "      <th>0</th>\n",
       "      <td>aiMotive Inc.</td>\n",
       "      <td>AVT036</td>\n",
       "      <td>2022-12-06</td>\n",
       "      <td>4T1B21HK6KU514747</td>\n",
       "      <td>No</td>\n",
       "      <td>Yes</td>\n",
       "      <td>Test driver, AV system</td>\n",
       "      <td>Freeway</td>\n",
       "      <td>Safety Driver disengaged autonomous mode upon ...</td>\n",
       "      <td>Tuesday</td>\n",
       "      <td>December</td>\n",
       "    </tr>\n",
       "    <tr>\n",
       "      <th>1</th>\n",
       "      <td>aiMotive Inc.</td>\n",
       "      <td>AVT036</td>\n",
       "      <td>2022-12-06</td>\n",
       "      <td>4T1B21HK3KU514477</td>\n",
       "      <td>No</td>\n",
       "      <td>Yes</td>\n",
       "      <td>Test driver, AV system</td>\n",
       "      <td>Freeway</td>\n",
       "      <td>Safety Driver disengaged autonomous mode due d...</td>\n",
       "      <td>Tuesday</td>\n",
       "      <td>December</td>\n",
       "    </tr>\n",
       "    <tr>\n",
       "      <th>2</th>\n",
       "      <td>aiMotive Inc.</td>\n",
       "      <td>AVT036</td>\n",
       "      <td>2022-12-08</td>\n",
       "      <td>4T1B21HK6KU514747</td>\n",
       "      <td>No</td>\n",
       "      <td>Yes</td>\n",
       "      <td>Test driver, AV system</td>\n",
       "      <td>Freeway</td>\n",
       "      <td>Safety Driver disengaged autonomous mode due t...</td>\n",
       "      <td>Thursday</td>\n",
       "      <td>December</td>\n",
       "    </tr>\n",
       "    <tr>\n",
       "      <th>3</th>\n",
       "      <td>aiMotive Inc.</td>\n",
       "      <td>AVT036</td>\n",
       "      <td>2022-12-08</td>\n",
       "      <td>4T1B21HK6KU514747</td>\n",
       "      <td>No</td>\n",
       "      <td>Yes</td>\n",
       "      <td>Test driver, AV system</td>\n",
       "      <td>Freeway</td>\n",
       "      <td>Safety Driver disengaged autonomous mode upon ...</td>\n",
       "      <td>Thursday</td>\n",
       "      <td>December</td>\n",
       "    </tr>\n",
       "    <tr>\n",
       "      <th>4</th>\n",
       "      <td>aiMotive Inc.</td>\n",
       "      <td>AVT036</td>\n",
       "      <td>2022-12-08</td>\n",
       "      <td>4T1B21HK3KU514477</td>\n",
       "      <td>No</td>\n",
       "      <td>Yes</td>\n",
       "      <td>Test driver, AV system</td>\n",
       "      <td>Highway</td>\n",
       "      <td>Safety Driver disengaged autonomous mode as a ...</td>\n",
       "      <td>Thursday</td>\n",
       "      <td>December</td>\n",
       "    </tr>\n",
       "  </tbody>\n",
       "</table>\n",
       "</div>"
      ],
      "text/plain": [
       "    manufacturer permit_number       date                vin  \\\n",
       "0  aiMotive Inc.        AVT036 2022-12-06  4T1B21HK6KU514747   \n",
       "1  aiMotive Inc.        AVT036 2022-12-06  4T1B21HK3KU514477   \n",
       "2  aiMotive Inc.        AVT036 2022-12-08  4T1B21HK6KU514747   \n",
       "3  aiMotive Inc.        AVT036 2022-12-08  4T1B21HK6KU514747   \n",
       "4  aiMotive Inc.        AVT036 2022-12-08  4T1B21HK3KU514477   \n",
       "\n",
       "  capable_without_driver driver_present disengagement_initiated_by  \\\n",
       "0                     No            Yes     Test driver, AV system   \n",
       "1                     No            Yes     Test driver, AV system   \n",
       "2                     No            Yes     Test driver, AV system   \n",
       "3                     No            Yes     Test driver, AV system   \n",
       "4                     No            Yes     Test driver, AV system   \n",
       "\n",
       "  disengagement_location                          disengagement_description  \\\n",
       "0                Freeway  Safety Driver disengaged autonomous mode upon ...   \n",
       "1                Freeway  Safety Driver disengaged autonomous mode due d...   \n",
       "2                Freeway  Safety Driver disengaged autonomous mode due t...   \n",
       "3                Freeway  Safety Driver disengaged autonomous mode upon ...   \n",
       "4                Highway  Safety Driver disengaged autonomous mode as a ...   \n",
       "\n",
       "  incident_day_of_week incident_month  \n",
       "0              Tuesday       December  \n",
       "1              Tuesday       December  \n",
       "2             Thursday       December  \n",
       "3             Thursday       December  \n",
       "4             Thursday       December  "
      ]
     },
     "execution_count": 24,
     "metadata": {},
     "output_type": "execute_result"
    }
   ],
   "source": [
    "reports_full.head()"
   ]
  },
  {
   "cell_type": "code",
   "execution_count": 25,
   "id": "cfe70002-7acf-491c-97d6-793eede76c3e",
   "metadata": {},
   "outputs": [
    {
     "name": "stdout",
     "output_type": "stream",
     "text": [
      "<class 'pandas.core.frame.DataFrame'>\n",
      "Index: 17454 entries, 0 to 2675\n",
      "Data columns (total 11 columns):\n",
      " #   Column                      Non-Null Count  Dtype         \n",
      "---  ------                      --------------  -----         \n",
      " 0   manufacturer                17454 non-null  object        \n",
      " 1   permit_number               17454 non-null  object        \n",
      " 2   date                        17454 non-null  datetime64[ns]\n",
      " 3   vin                         17454 non-null  object        \n",
      " 4   capable_without_driver      17454 non-null  object        \n",
      " 5   driver_present              17454 non-null  object        \n",
      " 6   disengagement_initiated_by  17454 non-null  object        \n",
      " 7   disengagement_location      17454 non-null  object        \n",
      " 8   disengagement_description   17454 non-null  object        \n",
      " 9   incident_day_of_week        17454 non-null  object        \n",
      " 10  incident_month              17454 non-null  object        \n",
      "dtypes: datetime64[ns](1), object(10)\n",
      "memory usage: 1.6+ MB\n"
     ]
    }
   ],
   "source": [
    "reports_full.info()"
   ]
  },
  {
   "cell_type": "markdown",
   "id": "63e98e48-0ae0-4a9b-867b-3454ecf902e5",
   "metadata": {},
   "source": [
    "## 6. Align data inputs in disengagement_location, disengagement_initiator_by"
   ]
  },
  {
   "cell_type": "markdown",
   "id": "8abc5046-3db1-43b1-a4ee-8a0fd511d924",
   "metadata": {},
   "source": [
    "because the full dataframe is a combination of 3 separate reports, there are some discrepancies in the inputs for disengagement_location and disengagement_initiators. For example, in 'disengagement_location', both 'Street' and 'STREET' should be combined."
   ]
  },
  {
   "cell_type": "code",
   "execution_count": 26,
   "id": "a691c959-6561-4bdb-95c8-ed332bcbcaa8",
   "metadata": {},
   "outputs": [
    {
     "data": {
      "text/plain": [
       "array(['Freeway', 'Highway', 'Parking facility', 'Street', 'Interstate',\n",
       "       'Express Way', 'HIghway', 'Urban', 'street', 'Parking Facility',\n",
       "       'Rural Road', 'freeway', 'STREET', 'HIGHWAY'], dtype=object)"
      ]
     },
     "execution_count": 26,
     "metadata": {},
     "output_type": "execute_result"
    }
   ],
   "source": [
    "reports_full['disengagement_location'].unique()"
   ]
  },
  {
   "cell_type": "code",
   "execution_count": 27,
   "id": "403e018a-5137-4b36-922d-edbb5f892730",
   "metadata": {},
   "outputs": [],
   "source": [
    "# Convert all elements in the 'disengagement_location' column to lowercase\n",
    "reports_full['disengagement_location'] = reports_full['disengagement_location'].str.lower()"
   ]
  },
  {
   "cell_type": "code",
   "execution_count": 28,
   "id": "dfeccd99-9a36-48cc-bab2-529a26c5e4cd",
   "metadata": {},
   "outputs": [
    {
     "data": {
      "text/plain": [
       "array(['freeway', 'highway', 'parking facility', 'street', 'interstate',\n",
       "       'express way', 'urban', 'rural road'], dtype=object)"
      ]
     },
     "execution_count": 28,
     "metadata": {},
     "output_type": "execute_result"
    }
   ],
   "source": [
    "reports_full['disengagement_location'].unique()"
   ]
  },
  {
   "cell_type": "markdown",
   "id": "fd6bdeb7-215d-4a90-9a9d-7c97fed8416c",
   "metadata": {},
   "source": [
    "Likewise, convert all data inputs in the column  'disengagement_initiated_by' to lowercase."
   ]
  },
  {
   "cell_type": "code",
   "execution_count": 29,
   "id": "0365c591-bcd5-4610-9761-f9d3fbf61cd7",
   "metadata": {},
   "outputs": [
    {
     "data": {
      "text/plain": [
       "array(['Test driver, AV system', 'Test driver', 'Test Driver',\n",
       "       'AV System', 'AV system', 'ADS', 'Test Drive', 'Software',\n",
       "       'Operator', 'AV System - Emergency Stop',\n",
       "       'Test Driver - Soft Stop', 'Driver'], dtype=object)"
      ]
     },
     "execution_count": 29,
     "metadata": {},
     "output_type": "execute_result"
    }
   ],
   "source": [
    "reports_full['disengagement_initiated_by'].unique()"
   ]
  },
  {
   "cell_type": "code",
   "execution_count": 30,
   "id": "6b0b5f01-56b1-41ea-b403-861625dab3ff",
   "metadata": {},
   "outputs": [],
   "source": [
    "# Convert all elements in the 'disengagement_initiated_by' column to lowercase\n",
    "reports_full['disengagement_initiated_by'] = reports_full['disengagement_initiated_by'].str.lower()"
   ]
  },
  {
   "cell_type": "code",
   "execution_count": 31,
   "id": "d7f523cc-33f1-4011-b15b-e7f9065232c3",
   "metadata": {},
   "outputs": [
    {
     "data": {
      "text/plain": [
       "array(['test driver, av system', 'test driver', 'av system', 'ads',\n",
       "       'test drive', 'software', 'operator', 'av system - emergency stop',\n",
       "       'test driver - soft stop', 'driver'], dtype=object)"
      ]
     },
     "execution_count": 31,
     "metadata": {},
     "output_type": "execute_result"
    }
   ],
   "source": [
    "reports_full['disengagement_initiated_by'].unique()"
   ]
  },
  {
   "cell_type": "markdown",
   "id": "0c4a47cf-eabe-4066-9249-0dfc03060819",
   "metadata": {},
   "source": [
    "Use replace() method to replace 'test drive', 'driver', and 'operator' with 'test driver' in the 'disengagement_initiated_by' column."
   ]
  },
  {
   "cell_type": "code",
   "execution_count": 32,
   "id": "3bc66928-7a22-44fb-bc87-375d2bdc0deb",
   "metadata": {},
   "outputs": [],
   "source": [
    "reports_full['disengagement_initiated_by'] = reports_full['disengagement_initiated_by'].replace({'test drive': 'test driver', \n",
    "                                                                                                 'driver': 'test driver',\n",
    "                                                                                                'operator': 'test driver',\n",
    "                                                                                                'software': 'av system',\n",
    "                                                                                                'ads': 'av system'})"
   ]
  },
  {
   "cell_type": "code",
   "execution_count": 33,
   "id": "be431362-876a-4574-a51e-4331ba049bc4",
   "metadata": {},
   "outputs": [
    {
     "data": {
      "text/plain": [
       "disengagement_initiated_by\n",
       "test driver                   14812\n",
       "av system                      2399\n",
       "test driver - soft stop         151\n",
       "av system - emergency stop       71\n",
       "test driver, av system           21\n",
       "Name: count, dtype: int64"
      ]
     },
     "execution_count": 33,
     "metadata": {},
     "output_type": "execute_result"
    }
   ],
   "source": [
    "reports_full['disengagement_initiated_by'].value_counts()"
   ]
  },
  {
   "cell_type": "code",
   "execution_count": 34,
   "id": "d887c8c6-241f-45d2-84f4-9121d07a0406",
   "metadata": {},
   "outputs": [
    {
     "data": {
      "text/plain": [
       "manufacturer\n",
       "APPLE INC.                                                  9839\n",
       "GHOST AUTONOMY INC                                          1482\n",
       "AIMOTIVE INC.                                                786\n",
       "aiMotive Inc.                                                708\n",
       "Motional AD, Inc.                                            593\n",
       "QUALCOMM TECHNOLOGIES, INC.                                  468\n",
       "WAYMO LLC                                                    462\n",
       "TOYOTA RESEARCH INSTITUTE, INC.                              419\n",
       "BOSCH                                                        314\n",
       "MERCEDES-BENZ RESEARCH & DEVELOPMENT NORTH AMERICA, INC.     310\n",
       "VALEO NORTH AMERICA INC.                                     276\n",
       "EASYMILE                                                     222\n",
       "Waymo LLC                                                    212\n",
       "IMAGRY INC                                                   204\n",
       "INTEL CORPORATION                                            155\n",
       "MOTIONAL AD, INC.                                            135\n",
       "IMAGRY INC                                                   124\n",
       "TOYOTA RESEARCH INSTITUTE                                    112\n",
       "NVIDIA                                                        82\n",
       "IMAGRY INC.                                                   71\n",
       "AURORA OPERATIONS, INC.                                       56\n",
       "Nuro Inc                                                      47\n",
       "UDELV, INC.                                                   46\n",
       "Woven by Toyota, U.S., Inc.                                   42\n",
       "PONY.AI, INC.                                                 41\n",
       "NURO, INC                                                     38\n",
       "CRUISE LLC                                                    30\n",
       "NISSAN NORTH AMERICA, INC DBA ALLIANCE INNOVATION LAB         25\n",
       "LYFT                                                          23\n",
       "ZOOX INC                                                      21\n",
       "Valeo                                                         21\n",
       "ZOOX, INC                                                     21\n",
       "Nissan North America                                          17\n",
       "QCRAFT INC.                                                    8\n",
       "WERIDE CORP                                                    8\n",
       "NVIDIA CORPORATION                                             7\n",
       "GATIK AI INC.                                                  6\n",
       "Zoox, Inc                                                      4\n",
       "Apollo                                                         3\n",
       "GATIK AI INC                                                   3\n",
       "Gatik AI Inc                                                   2\n",
       "DEEPROUTE.AI                                                   2\n",
       "DIDI RESEARCH AMERICA, LLC                                     2\n",
       "AUTOX TECHNOLOGIES, INC                                        2\n",
       "ARGO AI, LLC                                                   2\n",
       "APOLLO AUTONOMOUS DRIVING USA LLC                              1\n",
       "Didi Research America                                          1\n",
       "DIDI RESEARCH AMERICA LLC                                      1\n",
       "Name: count, dtype: int64"
      ]
     },
     "execution_count": 34,
     "metadata": {},
     "output_type": "execute_result"
    }
   ],
   "source": [
    "reports_full['manufacturer'].value_counts()"
   ]
  },
  {
   "cell_type": "code",
   "execution_count": 35,
   "id": "4d93c407-8385-4c15-b430-10adb51b88b0",
   "metadata": {},
   "outputs": [],
   "source": [
    "# Convert all elements in the 'manufacturer' column to lowercase\n",
    "reports_full['manufacturer'] = reports_full['manufacturer'].str.lower()"
   ]
  },
  {
   "cell_type": "code",
   "execution_count": 36,
   "id": "9c2b87a1-4a75-40a1-a8ee-434fb41fa2d3",
   "metadata": {},
   "outputs": [
    {
     "data": {
      "text/plain": [
       "manufacturer\n",
       "apple inc.                                                  9839\n",
       "aimotive inc.                                               1494\n",
       "ghost autonomy inc                                          1482\n",
       "motional ad, inc.                                            728\n",
       "waymo llc                                                    674\n",
       "qualcomm technologies, inc.                                  468\n",
       "toyota research institute, inc.                              419\n",
       "bosch                                                        314\n",
       "mercedes-benz research & development north america, inc.     310\n",
       "valeo north america inc.                                     276\n",
       "easymile                                                     222\n",
       "imagry inc                                                   204\n",
       "intel corporation                                            155\n",
       "imagry inc                                                   124\n",
       "toyota research institute                                    112\n",
       "nvidia                                                        82\n",
       "imagry inc.                                                   71\n",
       "aurora operations, inc.                                       56\n",
       "nuro inc                                                      47\n",
       "udelv, inc.                                                   46\n",
       "woven by toyota, u.s., inc.                                   42\n",
       "pony.ai, inc.                                                 41\n",
       "nuro, inc                                                     38\n",
       "cruise llc                                                    30\n",
       "zoox, inc                                                     25\n",
       "nissan north america, inc dba alliance innovation lab         25\n",
       "lyft                                                          23\n",
       "valeo                                                         21\n",
       "zoox inc                                                      21\n",
       "nissan north america                                          17\n",
       "weride corp                                                    8\n",
       "qcraft inc.                                                    8\n",
       "nvidia corporation                                             7\n",
       "gatik ai inc.                                                  6\n",
       "gatik ai inc                                                   5\n",
       "apollo                                                         3\n",
       "deeproute.ai                                                   2\n",
       "argo ai, llc                                                   2\n",
       "autox technologies, inc                                        2\n",
       "didi research america, llc                                     2\n",
       "apollo autonomous driving usa llc                              1\n",
       "didi research america llc                                      1\n",
       "didi research america                                          1\n",
       "Name: count, dtype: int64"
      ]
     },
     "execution_count": 36,
     "metadata": {},
     "output_type": "execute_result"
    }
   ],
   "source": [
    "reports_full['manufacturer'].value_counts()"
   ]
  },
  {
   "cell_type": "code",
   "execution_count": 37,
   "id": "6bdbd735-a746-43db-ab20-6d3912b3565f",
   "metadata": {},
   "outputs": [],
   "source": [
    "reports_full['manufacturer'] = reports_full['manufacturer'].replace({'imagry inc ': 'imagry inc',\n",
    "                                                                     \n",
    "                                                                                                 'toyota research institute ': 'toyota research institute, inc.',\n",
    "                                                                                                })"
   ]
  },
  {
   "cell_type": "code",
   "execution_count": 38,
   "id": "6a0841ca-07ec-4c12-b683-bd43cf2e76ef",
   "metadata": {},
   "outputs": [],
   "source": [
    "# Dictionary for standardizing manufacturer names\n",
    "manufacturers_dict = {\n",
    "    'imagry inc': 'imagry inc.',\n",
    "    'imagry inc.': 'imagry inc.',\n",
    "    'imagry inc ': 'imagry inc.',\n",
    "    'toyota research institute': 'toyota research institute, inc.',\n",
    "    'toyota research institute, inc.': 'toyota research institute, inc.',\n",
    "    'woven by toyota, u.s., inc.': 'toyota research institute, inc.',\n",
    "    'nuro inc': 'nuro, inc',\n",
    "    'nuro, inc': 'nuro, inc',\n",
    "    'gatik ai inc.': 'gatik ai inc',\n",
    "    'gatik ai inc': 'gatik ai inc',\n",
    "    'deeproute.ai': 'deeproute.ai',\n",
    "    'didi research america, llc': 'didi research america',\n",
    "    'didi research america llc': 'didi research america',\n",
    "    'didi research america': 'didi research america',\n",
    "    'apollo autonomous driving usa llc': 'apollo',\n",
    "    'apollo': 'apollo',\n",
    "    'qualcomm technologies, inc.': 'qualcomm technologies, inc.',\n",
    "    'motional ad, inc.': 'motional ad, inc.',\n",
    "    'mercedes-benz research & development north america, inc.': 'mercedes-benz, inc.',\n",
    "    'valeo north america inc.': 'valeo north america inc.',\n",
    "    'valeo': 'valeo north america inc.',\n",
    "    'zoox, inc': 'zoox inc',\n",
    "    'zoox inc': 'zoox inc',\n",
    "    'nissan north america, inc dba alliance innovation lab': 'nissan north america',\n",
    "    'nissan north america': 'nissan north america',\n",
    "    'qcraft inc.': 'qcraft inc',\n",
    "    'nvidia corporation': 'nvidia',\n",
    "    'argo ai, llc': 'argo ai',\n",
    "    'autox technologies, inc': 'autox technologies, inc',\n",
    "    'lyft': 'lyft',\n",
    "    'aimotive inc.': 'aimotive inc.',\n",
    "    'bosch': 'bosch',\n",
    "    'ghost autonomy inc': 'ghost autonomy inc',\n",
    "    'urban': 'urban',\n",
    "    'intel corporation': 'intel corporation',\n",
    "    'weride corp': 'weride corp',\n",
    "    'waymo llc': 'waymo llc',\n",
    "    'apple inc.': 'apple inc.',\n",
    "    'aurora operations, inc.': 'aurora operations, inc.',\n",
    "    'pony.ai, inc.': 'pony.ai, inc.',\n",
    "    'cruise llc': 'cruise llc',\n",
    "    'easymile': 'easymile'\n",
    "}\n",
    "\n",
    "# Apply the replacements\n",
    "reports_full['manufacturer'] = reports_full['manufacturer'].replace(manufacturers_dict)"
   ]
  },
  {
   "cell_type": "code",
   "execution_count": 39,
   "id": "a9a5771f-927b-447e-9d3d-8deddbf147c6",
   "metadata": {},
   "outputs": [
    {
     "data": {
      "text/plain": [
       "array(['aimotive inc.', 'apollo', 'apple inc.', 'aurora operations, inc.',\n",
       "       'bosch', 'didi research america', 'gatik ai inc',\n",
       "       'ghost autonomy inc', 'imagry inc.', 'motional ad, inc.',\n",
       "       'nissan north america', 'nuro, inc', 'qualcomm technologies, inc.',\n",
       "       'valeo north america inc.', 'waymo llc', 'weride corp',\n",
       "       'toyota research institute, inc.', 'zoox inc', 'argo ai',\n",
       "       'autox technologies, inc', 'cruise llc', 'intel corporation',\n",
       "       'mercedes-benz, inc.', 'nvidia corporation ', 'pony.ai, inc.',\n",
       "       'qcraft inc', 'deeproute.ai', 'easymile', 'lyft', 'nvidia',\n",
       "       'udelv, inc.'], dtype=object)"
      ]
     },
     "execution_count": 39,
     "metadata": {},
     "output_type": "execute_result"
    }
   ],
   "source": [
    "# Remove duplicates and show the unique manufacturers\n",
    "reports_full['manufacturer'].unique()"
   ]
  },
  {
   "cell_type": "markdown",
   "id": "e63a0bbb-8e5b-420f-b896-52cfd9c20400",
   "metadata": {},
   "source": [
    "## 7. Export full DataFrame to csv"
   ]
  },
  {
   "cell_type": "code",
   "execution_count": 40,
   "id": "c19b788f-8912-4e1f-8ea3-ce43501a57af",
   "metadata": {},
   "outputs": [],
   "source": [
    "reports_full.to_csv('../data/reports_full.csv', index = False)"
   ]
  },
  {
   "cell_type": "code",
   "execution_count": 41,
   "id": "34870217-b9d6-4822-8504-e706a2017e83",
   "metadata": {},
   "outputs": [],
   "source": [
    "reports2023.to_csv('../data/reports2023_clean.csv', index = False)\n",
    "reports2022.to_csv('../data/reports2022_clean.csv', index = False)\n",
    "reports2021.to_csv('../data/reports2021_clean.csv', index = False)"
   ]
  },
  {
   "cell_type": "code",
   "execution_count": null,
   "id": "673458d3-2c29-4796-a313-aab4b475ef7d",
   "metadata": {},
   "outputs": [],
   "source": []
  }
 ],
 "metadata": {
  "kernelspec": {
   "display_name": "Python 3 (ipykernel)",
   "language": "python",
   "name": "python3"
  },
  "language_info": {
   "codemirror_mode": {
    "name": "ipython",
    "version": 3
   },
   "file_extension": ".py",
   "mimetype": "text/x-python",
   "name": "python",
   "nbconvert_exporter": "python",
   "pygments_lexer": "ipython3",
   "version": "3.11.7"
  }
 },
 "nbformat": 4,
 "nbformat_minor": 5
}
