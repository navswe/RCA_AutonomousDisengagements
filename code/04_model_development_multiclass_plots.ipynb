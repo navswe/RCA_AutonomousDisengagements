{
  "cells": [
    {
      "cell_type": "markdown",
      "id": "20e24805-3619-450e-9746-4821c2fd2d2e",
      "metadata": {
        "id": "20e24805-3619-450e-9746-4821c2fd2d2e"
      },
      "source": [
        "# 04_Model_Development notebook"
      ]
    },
    {
      "cell_type": "markdown",
      "id": "WAfGtxNM8mrb",
      "metadata": {
        "id": "WAfGtxNM8mrb"
      },
      "source": [
        "**The objective of this notebook is to develop a multi-class text classification model using transformers architecture to classify autonomous vehicles disengagement categories based on the disengagement description.**\n",
        "\n",
        "inspiration: https://colab.research.google.com/github/abhimishra91/transformers-tutorials/blob/master/transformers_multiclass_classification.ipynb#scrollTo=ZG_SVc-QqNsS\n",
        "\n",
        "modeling steps are:\n",
        "- Load and preprocess the dataset.\n",
        "- Fine-tune the DistilBERT model.\n",
        "- Evaluate the model.\n",
        "- Plot the training and validation metrics."
      ]
    },
    {
      "cell_type": "markdown",
      "id": "92df2aee-6c5a-41b0-b8ae-3646017718d3",
      "metadata": {
        "id": "92df2aee-6c5a-41b0-b8ae-3646017718d3"
      },
      "source": [
        "## 1. Imports and Installations"
      ]
    },
    {
      "cell_type": "code",
      "execution_count": 1,
      "id": "d6c18576-e261-46fe-acee-e8021ace5fa3",
      "metadata": {
        "id": "d6c18576-e261-46fe-acee-e8021ace5fa3"
      },
      "outputs": [],
      "source": [
        "import pandas as pd\n",
        "import torch\n",
        "import matplotlib.pyplot as plt\n",
        "\n",
        "#data encoding and processing\n",
        "from sklearn.preprocessing import LabelEncoder\n",
        "from sklearn.model_selection import train_test_split\n",
        "from torch.utils.data import Dataset, DataLoader\n",
        "\n",
        "#DistilBERT model\n",
        "from transformers import DistilBertTokenizer, DistilBertModel, get_linear_schedule_with_warmup\n",
        "\n",
        "#model evaluation\n",
        "from sklearn.metrics import classification_report\n"
      ]
    },
    {
      "cell_type": "code",
      "execution_count": 2,
      "id": "KKbR8zFa-d8K",
      "metadata": {
        "id": "KKbR8zFa-d8K"
      },
      "outputs": [],
      "source": [
        "# I'm using google colab to run this model so I'm setting up the GPU usage:\n",
        "\n",
        "from torch import cuda\n",
        "device = 'cuda' if cuda.is_available() else 'cpu'"
      ]
    },
    {
      "cell_type": "markdown",
      "id": "883ed2ca-6d67-467d-8634-a3c06e2892a3",
      "metadata": {
        "id": "883ed2ca-6d67-467d-8634-a3c06e2892a3"
      },
      "source": [
        "## 2. Read CSV"
      ]
    },
    {
      "cell_type": "code",
      "execution_count": 3,
      "id": "d77a3135-d3a9-4b27-bf94-528dda1af023",
      "metadata": {
        "id": "d77a3135-d3a9-4b27-bf94-528dda1af023"
      },
      "outputs": [],
      "source": [
        "reports = pd.read_csv('./data/reports_condensed.csv')"
      ]
    },
    {
      "cell_type": "code",
      "execution_count": 4,
      "id": "ebae9ba8-6adb-46c9-8384-10703197f592",
      "metadata": {
        "colab": {
          "base_uri": "https://localhost:8080/",
          "height": 0
        },
        "id": "ebae9ba8-6adb-46c9-8384-10703197f592",
        "outputId": "380bfbf4-0a93-48bc-9e58-dff573ed0ee1"
      },
      "outputs": [
        {
          "output_type": "execute_result",
          "data": {
            "text/plain": [
              "(17454, 2)"
            ]
          },
          "metadata": {},
          "execution_count": 4
        }
      ],
      "source": [
        "reports.shape"
      ]
    },
    {
      "cell_type": "code",
      "execution_count": 5,
      "id": "b1268cef-9f23-4835-bd6a-b060d960b9fd",
      "metadata": {
        "colab": {
          "base_uri": "https://localhost:8080/",
          "height": 0
        },
        "id": "b1268cef-9f23-4835-bd6a-b060d960b9fd",
        "outputId": "eb861423-e8eb-45f2-88e9-9ffbb886c426"
      },
      "outputs": [
        {
          "output_type": "stream",
          "name": "stdout",
          "text": [
            "<class 'pandas.core.frame.DataFrame'>\n",
            "RangeIndex: 17454 entries, 0 to 17453\n",
            "Data columns (total 2 columns):\n",
            " #   Column                     Non-Null Count  Dtype \n",
            "---  ------                     --------------  ----- \n",
            " 0   disengagement_description  17454 non-null  object\n",
            " 1   disengagement_category     17454 non-null  object\n",
            "dtypes: object(2)\n",
            "memory usage: 272.8+ KB\n"
          ]
        }
      ],
      "source": [
        "reports.info()"
      ]
    },
    {
      "cell_type": "code",
      "execution_count": 6,
      "id": "625eefa3-93db-4d81-b788-acc76132cc38",
      "metadata": {
        "colab": {
          "base_uri": "https://localhost:8080/",
          "height": 0
        },
        "id": "625eefa3-93db-4d81-b788-acc76132cc38",
        "outputId": "1e0f3170-c39a-4f23-e328-30908504d74d"
      },
      "outputs": [
        {
          "output_type": "execute_result",
          "data": {
            "text/plain": [
              "array(['perception issues', 'driver intervention', 'planning issues',\n",
              "       'control', 'hardware issues', 'localization & mapping issues',\n",
              "       'environmental factors', 'other', 'traffic'], dtype=object)"
            ]
          },
          "metadata": {},
          "execution_count": 6
        }
      ],
      "source": [
        "reports['disengagement_category'].unique()"
      ]
    },
    {
      "cell_type": "markdown",
      "id": "e42ed4bc-4e93-4f8e-979f-0f4bf887e361",
      "metadata": {
        "id": "e42ed4bc-4e93-4f8e-979f-0f4bf887e361"
      },
      "source": [
        "## 2. Feature Engineering"
      ]
    },
    {
      "cell_type": "code",
      "execution_count": 7,
      "id": "RLrU8-TaCXqi",
      "metadata": {
        "id": "RLrU8-TaCXqi"
      },
      "outputs": [],
      "source": [
        "# Encode the categories using LabelEncoder\n",
        "label_encoder = LabelEncoder()\n",
        "reports['encoded_category'] = label_encoder.fit_transform(reports['disengagement_category'])"
      ]
    },
    {
      "cell_type": "code",
      "execution_count": 8,
      "id": "EttE3SgoEYxq",
      "metadata": {
        "colab": {
          "base_uri": "https://localhost:8080/",
          "height": 0
        },
        "id": "EttE3SgoEYxq",
        "outputId": "abe91e4f-4e5c-4988-8d36-548ef65724ab"
      },
      "outputs": [
        {
          "output_type": "execute_result",
          "data": {
            "text/plain": [
              "array([6, 1, 7, 0, 3, 4, 2, 5, 8])"
            ]
          },
          "metadata": {},
          "execution_count": 8
        }
      ],
      "source": [
        "reports['encoded_category'].unique()"
      ]
    },
    {
      "cell_type": "code",
      "execution_count": 9,
      "id": "xoevg8Y8FO4A",
      "metadata": {
        "colab": {
          "base_uri": "https://localhost:8080/",
          "height": 206
        },
        "id": "xoevg8Y8FO4A",
        "outputId": "c9a00302-39f9-430a-ae23-02edb7b361cb"
      },
      "outputs": [
        {
          "output_type": "execute_result",
          "data": {
            "text/plain": [
              "                           disengagement_description disengagement_category  \\\n",
              "0  Safety Driver disengaged autonomous mode upon ...      perception issues   \n",
              "1  Safety Driver disengaged autonomous mode due d...    driver intervention   \n",
              "2  Safety Driver disengaged autonomous mode due t...      perception issues   \n",
              "3  Safety Driver disengaged autonomous mode upon ...      perception issues   \n",
              "4  Safety Driver disengaged autonomous mode as a ...    driver intervention   \n",
              "\n",
              "   encoded_category  \n",
              "0                 6  \n",
              "1                 1  \n",
              "2                 6  \n",
              "3                 6  \n",
              "4                 1  "
            ],
            "text/html": [
              "\n",
              "  <div id=\"df-7367f5db-cba1-475c-8531-2d97dcdb025f\" class=\"colab-df-container\">\n",
              "    <div>\n",
              "<style scoped>\n",
              "    .dataframe tbody tr th:only-of-type {\n",
              "        vertical-align: middle;\n",
              "    }\n",
              "\n",
              "    .dataframe tbody tr th {\n",
              "        vertical-align: top;\n",
              "    }\n",
              "\n",
              "    .dataframe thead th {\n",
              "        text-align: right;\n",
              "    }\n",
              "</style>\n",
              "<table border=\"1\" class=\"dataframe\">\n",
              "  <thead>\n",
              "    <tr style=\"text-align: right;\">\n",
              "      <th></th>\n",
              "      <th>disengagement_description</th>\n",
              "      <th>disengagement_category</th>\n",
              "      <th>encoded_category</th>\n",
              "    </tr>\n",
              "  </thead>\n",
              "  <tbody>\n",
              "    <tr>\n",
              "      <th>0</th>\n",
              "      <td>Safety Driver disengaged autonomous mode upon ...</td>\n",
              "      <td>perception issues</td>\n",
              "      <td>6</td>\n",
              "    </tr>\n",
              "    <tr>\n",
              "      <th>1</th>\n",
              "      <td>Safety Driver disengaged autonomous mode due d...</td>\n",
              "      <td>driver intervention</td>\n",
              "      <td>1</td>\n",
              "    </tr>\n",
              "    <tr>\n",
              "      <th>2</th>\n",
              "      <td>Safety Driver disengaged autonomous mode due t...</td>\n",
              "      <td>perception issues</td>\n",
              "      <td>6</td>\n",
              "    </tr>\n",
              "    <tr>\n",
              "      <th>3</th>\n",
              "      <td>Safety Driver disengaged autonomous mode upon ...</td>\n",
              "      <td>perception issues</td>\n",
              "      <td>6</td>\n",
              "    </tr>\n",
              "    <tr>\n",
              "      <th>4</th>\n",
              "      <td>Safety Driver disengaged autonomous mode as a ...</td>\n",
              "      <td>driver intervention</td>\n",
              "      <td>1</td>\n",
              "    </tr>\n",
              "  </tbody>\n",
              "</table>\n",
              "</div>\n",
              "    <div class=\"colab-df-buttons\">\n",
              "\n",
              "  <div class=\"colab-df-container\">\n",
              "    <button class=\"colab-df-convert\" onclick=\"convertToInteractive('df-7367f5db-cba1-475c-8531-2d97dcdb025f')\"\n",
              "            title=\"Convert this dataframe to an interactive table.\"\n",
              "            style=\"display:none;\">\n",
              "\n",
              "  <svg xmlns=\"http://www.w3.org/2000/svg\" height=\"24px\" viewBox=\"0 -960 960 960\">\n",
              "    <path d=\"M120-120v-720h720v720H120Zm60-500h600v-160H180v160Zm220 220h160v-160H400v160Zm0 220h160v-160H400v160ZM180-400h160v-160H180v160Zm440 0h160v-160H620v160ZM180-180h160v-160H180v160Zm440 0h160v-160H620v160Z\"/>\n",
              "  </svg>\n",
              "    </button>\n",
              "\n",
              "  <style>\n",
              "    .colab-df-container {\n",
              "      display:flex;\n",
              "      gap: 12px;\n",
              "    }\n",
              "\n",
              "    .colab-df-convert {\n",
              "      background-color: #E8F0FE;\n",
              "      border: none;\n",
              "      border-radius: 50%;\n",
              "      cursor: pointer;\n",
              "      display: none;\n",
              "      fill: #1967D2;\n",
              "      height: 32px;\n",
              "      padding: 0 0 0 0;\n",
              "      width: 32px;\n",
              "    }\n",
              "\n",
              "    .colab-df-convert:hover {\n",
              "      background-color: #E2EBFA;\n",
              "      box-shadow: 0px 1px 2px rgba(60, 64, 67, 0.3), 0px 1px 3px 1px rgba(60, 64, 67, 0.15);\n",
              "      fill: #174EA6;\n",
              "    }\n",
              "\n",
              "    .colab-df-buttons div {\n",
              "      margin-bottom: 4px;\n",
              "    }\n",
              "\n",
              "    [theme=dark] .colab-df-convert {\n",
              "      background-color: #3B4455;\n",
              "      fill: #D2E3FC;\n",
              "    }\n",
              "\n",
              "    [theme=dark] .colab-df-convert:hover {\n",
              "      background-color: #434B5C;\n",
              "      box-shadow: 0px 1px 3px 1px rgba(0, 0, 0, 0.15);\n",
              "      filter: drop-shadow(0px 1px 2px rgba(0, 0, 0, 0.3));\n",
              "      fill: #FFFFFF;\n",
              "    }\n",
              "  </style>\n",
              "\n",
              "    <script>\n",
              "      const buttonEl =\n",
              "        document.querySelector('#df-7367f5db-cba1-475c-8531-2d97dcdb025f button.colab-df-convert');\n",
              "      buttonEl.style.display =\n",
              "        google.colab.kernel.accessAllowed ? 'block' : 'none';\n",
              "\n",
              "      async function convertToInteractive(key) {\n",
              "        const element = document.querySelector('#df-7367f5db-cba1-475c-8531-2d97dcdb025f');\n",
              "        const dataTable =\n",
              "          await google.colab.kernel.invokeFunction('convertToInteractive',\n",
              "                                                    [key], {});\n",
              "        if (!dataTable) return;\n",
              "\n",
              "        const docLinkHtml = 'Like what you see? Visit the ' +\n",
              "          '<a target=\"_blank\" href=https://colab.research.google.com/notebooks/data_table.ipynb>data table notebook</a>'\n",
              "          + ' to learn more about interactive tables.';\n",
              "        element.innerHTML = '';\n",
              "        dataTable['output_type'] = 'display_data';\n",
              "        await google.colab.output.renderOutput(dataTable, element);\n",
              "        const docLink = document.createElement('div');\n",
              "        docLink.innerHTML = docLinkHtml;\n",
              "        element.appendChild(docLink);\n",
              "      }\n",
              "    </script>\n",
              "  </div>\n",
              "\n",
              "\n",
              "<div id=\"df-0bda47e2-23ac-439c-ab2f-97ee48ea356a\">\n",
              "  <button class=\"colab-df-quickchart\" onclick=\"quickchart('df-0bda47e2-23ac-439c-ab2f-97ee48ea356a')\"\n",
              "            title=\"Suggest charts\"\n",
              "            style=\"display:none;\">\n",
              "\n",
              "<svg xmlns=\"http://www.w3.org/2000/svg\" height=\"24px\"viewBox=\"0 0 24 24\"\n",
              "     width=\"24px\">\n",
              "    <g>\n",
              "        <path d=\"M19 3H5c-1.1 0-2 .9-2 2v14c0 1.1.9 2 2 2h14c1.1 0 2-.9 2-2V5c0-1.1-.9-2-2-2zM9 17H7v-7h2v7zm4 0h-2V7h2v10zm4 0h-2v-4h2v4z\"/>\n",
              "    </g>\n",
              "</svg>\n",
              "  </button>\n",
              "\n",
              "<style>\n",
              "  .colab-df-quickchart {\n",
              "      --bg-color: #E8F0FE;\n",
              "      --fill-color: #1967D2;\n",
              "      --hover-bg-color: #E2EBFA;\n",
              "      --hover-fill-color: #174EA6;\n",
              "      --disabled-fill-color: #AAA;\n",
              "      --disabled-bg-color: #DDD;\n",
              "  }\n",
              "\n",
              "  [theme=dark] .colab-df-quickchart {\n",
              "      --bg-color: #3B4455;\n",
              "      --fill-color: #D2E3FC;\n",
              "      --hover-bg-color: #434B5C;\n",
              "      --hover-fill-color: #FFFFFF;\n",
              "      --disabled-bg-color: #3B4455;\n",
              "      --disabled-fill-color: #666;\n",
              "  }\n",
              "\n",
              "  .colab-df-quickchart {\n",
              "    background-color: var(--bg-color);\n",
              "    border: none;\n",
              "    border-radius: 50%;\n",
              "    cursor: pointer;\n",
              "    display: none;\n",
              "    fill: var(--fill-color);\n",
              "    height: 32px;\n",
              "    padding: 0;\n",
              "    width: 32px;\n",
              "  }\n",
              "\n",
              "  .colab-df-quickchart:hover {\n",
              "    background-color: var(--hover-bg-color);\n",
              "    box-shadow: 0 1px 2px rgba(60, 64, 67, 0.3), 0 1px 3px 1px rgba(60, 64, 67, 0.15);\n",
              "    fill: var(--button-hover-fill-color);\n",
              "  }\n",
              "\n",
              "  .colab-df-quickchart-complete:disabled,\n",
              "  .colab-df-quickchart-complete:disabled:hover {\n",
              "    background-color: var(--disabled-bg-color);\n",
              "    fill: var(--disabled-fill-color);\n",
              "    box-shadow: none;\n",
              "  }\n",
              "\n",
              "  .colab-df-spinner {\n",
              "    border: 2px solid var(--fill-color);\n",
              "    border-color: transparent;\n",
              "    border-bottom-color: var(--fill-color);\n",
              "    animation:\n",
              "      spin 1s steps(1) infinite;\n",
              "  }\n",
              "\n",
              "  @keyframes spin {\n",
              "    0% {\n",
              "      border-color: transparent;\n",
              "      border-bottom-color: var(--fill-color);\n",
              "      border-left-color: var(--fill-color);\n",
              "    }\n",
              "    20% {\n",
              "      border-color: transparent;\n",
              "      border-left-color: var(--fill-color);\n",
              "      border-top-color: var(--fill-color);\n",
              "    }\n",
              "    30% {\n",
              "      border-color: transparent;\n",
              "      border-left-color: var(--fill-color);\n",
              "      border-top-color: var(--fill-color);\n",
              "      border-right-color: var(--fill-color);\n",
              "    }\n",
              "    40% {\n",
              "      border-color: transparent;\n",
              "      border-right-color: var(--fill-color);\n",
              "      border-top-color: var(--fill-color);\n",
              "    }\n",
              "    60% {\n",
              "      border-color: transparent;\n",
              "      border-right-color: var(--fill-color);\n",
              "    }\n",
              "    80% {\n",
              "      border-color: transparent;\n",
              "      border-right-color: var(--fill-color);\n",
              "      border-bottom-color: var(--fill-color);\n",
              "    }\n",
              "    90% {\n",
              "      border-color: transparent;\n",
              "      border-bottom-color: var(--fill-color);\n",
              "    }\n",
              "  }\n",
              "</style>\n",
              "\n",
              "  <script>\n",
              "    async function quickchart(key) {\n",
              "      const quickchartButtonEl =\n",
              "        document.querySelector('#' + key + ' button');\n",
              "      quickchartButtonEl.disabled = true;  // To prevent multiple clicks.\n",
              "      quickchartButtonEl.classList.add('colab-df-spinner');\n",
              "      try {\n",
              "        const charts = await google.colab.kernel.invokeFunction(\n",
              "            'suggestCharts', [key], {});\n",
              "      } catch (error) {\n",
              "        console.error('Error during call to suggestCharts:', error);\n",
              "      }\n",
              "      quickchartButtonEl.classList.remove('colab-df-spinner');\n",
              "      quickchartButtonEl.classList.add('colab-df-quickchart-complete');\n",
              "    }\n",
              "    (() => {\n",
              "      let quickchartButtonEl =\n",
              "        document.querySelector('#df-0bda47e2-23ac-439c-ab2f-97ee48ea356a button');\n",
              "      quickchartButtonEl.style.display =\n",
              "        google.colab.kernel.accessAllowed ? 'block' : 'none';\n",
              "    })();\n",
              "  </script>\n",
              "</div>\n",
              "\n",
              "    </div>\n",
              "  </div>\n"
            ],
            "application/vnd.google.colaboratory.intrinsic+json": {
              "type": "dataframe",
              "variable_name": "reports",
              "summary": "{\n  \"name\": \"reports\",\n  \"rows\": 17454,\n  \"fields\": [\n    {\n      \"column\": \"disengagement_description\",\n      \"properties\": {\n        \"dtype\": \"category\",\n        \"num_unique_values\": 830,\n        \"samples\": [\n          \"Driver pressed the brake pedal because the vehicle was driving faster than driver expected. Vehicle not in an active construction zone. No emergency vehicles or collisions present in the vicinity. Weather and/or road conditions dry in the area.\",\n          \"Safety Driver disengaged autonomous mode near crosswalk due to overly conservative vehicle behavior.\",\n          \"Safety Driver disengaged upon judging that vehicle was too close to road boundary.\"\n        ],\n        \"semantic_type\": \"\",\n        \"description\": \"\"\n      }\n    },\n    {\n      \"column\": \"disengagement_category\",\n      \"properties\": {\n        \"dtype\": \"category\",\n        \"num_unique_values\": 9,\n        \"samples\": [\n          \"other\",\n          \"driver intervention\",\n          \"localization & mapping issues\"\n        ],\n        \"semantic_type\": \"\",\n        \"description\": \"\"\n      }\n    },\n    {\n      \"column\": \"encoded_category\",\n      \"properties\": {\n        \"dtype\": \"number\",\n        \"std\": 2,\n        \"min\": 0,\n        \"max\": 8,\n        \"num_unique_values\": 9,\n        \"samples\": [\n          5,\n          1,\n          4\n        ],\n        \"semantic_type\": \"\",\n        \"description\": \"\"\n      }\n    }\n  ]\n}"
            }
          },
          "metadata": {},
          "execution_count": 9
        }
      ],
      "source": [
        "reports.head()"
      ]
    },
    {
      "cell_type": "code",
      "source": [
        "reports.encoded_category.value_counts()"
      ],
      "metadata": {
        "colab": {
          "base_uri": "https://localhost:8080/",
          "height": 0
        },
        "id": "WQIdoK_IqzAc",
        "outputId": "06fd1180-f82e-4f55-9675-93c62fc09d6e"
      },
      "id": "WQIdoK_IqzAc",
      "execution_count": 10,
      "outputs": [
        {
          "output_type": "execute_result",
          "data": {
            "text/plain": [
              "encoded_category\n",
              "6    6113\n",
              "7    6063\n",
              "1    2276\n",
              "3    1694\n",
              "2     296\n",
              "5     292\n",
              "0     263\n",
              "4     249\n",
              "8     208\n",
              "Name: count, dtype: int64"
            ]
          },
          "metadata": {},
          "execution_count": 10
        }
      ]
    },
    {
      "cell_type": "markdown",
      "id": "6fd693ff-a462-459b-9058-fbf36484c865",
      "metadata": {
        "id": "6fd693ff-a462-459b-9058-fbf36484c865"
      },
      "source": [
        "## 3. Models"
      ]
    },
    {
      "cell_type": "code",
      "execution_count": 11,
      "id": "651aed73-1765-4dae-8bcd-0d5c37690503",
      "metadata": {
        "id": "651aed73-1765-4dae-8bcd-0d5c37690503",
        "colab": {
          "base_uri": "https://localhost:8080/",
          "height": 0
        },
        "outputId": "754bd48b-12dc-4acf-a16d-bc9f69a8f7b3"
      },
      "outputs": [
        {
          "output_type": "stream",
          "name": "stderr",
          "text": [
            "/usr/local/lib/python3.10/dist-packages/huggingface_hub/utils/_token.py:89: UserWarning: \n",
            "The secret `HF_TOKEN` does not exist in your Colab secrets.\n",
            "To authenticate with the Hugging Face Hub, create a token in your settings tab (https://huggingface.co/settings/tokens), set it as secret in your Google Colab and restart your session.\n",
            "You will be able to reuse this secret in all of your notebooks.\n",
            "Please note that authentication is recommended but still optional to access public models or datasets.\n",
            "  warnings.warn(\n"
          ]
        }
      ],
      "source": [
        "# Defining some key variables that will be used later on in the training\n",
        "\n",
        "MAX_LEN = 256   #The maximum sequence length for tokenized inputs, see token length frequency plot.\n",
        "TRAIN_BATCH_SIZE = 16    #The number of samples per gradient update for training dataset. Currently using google colabs pro GPU L4.\n",
        "VALID_BATCH_SIZE = 8    # and validation dataset\n",
        "EPOCHS = 10              # The number of times the entire training dataset is passed through the model. Use earlystopping later.\n",
        "LEARNING_RATE = 3e-05    #The step size at each iteration while moving towards a minimum of the loss function. 3e-05 is the common lr starting point.\n",
        "\n",
        "#define tokenizer: distilbert-base-uncased is used because word capitalization is not important here and I want to reduce the model complexity.\n",
        "tokenizer = DistilBertTokenizer.from_pretrained('distilbert-base-uncased')"
      ]
    },
    {
      "cell_type": "markdown",
      "id": "xfEEtX7uQad6",
      "metadata": {
        "id": "xfEEtX7uQad6"
      },
      "source": [
        "### Token Length Frequency Plot"
      ]
    },
    {
      "cell_type": "code",
      "execution_count": 12,
      "id": "LbbsDi9ZQa2N",
      "metadata": {
        "colab": {
          "base_uri": "https://localhost:8080/",
          "height": 449
        },
        "id": "LbbsDi9ZQa2N",
        "outputId": "a4d3bd44-4da5-45b8-ce9d-6a558f838d71"
      },
      "outputs": [
        {
          "output_type": "display_data",
          "data": {
            "text/plain": [
              "<Figure size 640x480 with 1 Axes>"
            ],
            "image/png": "[encoded data removed]"
          },
          "metadata": {}
        }
      ],
      "source": [
        "#the token lengths averages around 40 tokens and the maximum is approximately 140.\n",
        "\n",
        "tokenizer = DistilBertTokenizer.from_pretrained('distilbert-base-cased')\n",
        "lengths = [len(tokenizer.encode(text, add_special_tokens=True)) for text in reports['disengagement_description']]\n",
        "plt.hist(lengths, bins=50)\n",
        "plt.xlabel('Token Length')\n",
        "plt.ylabel('Frequency')\n",
        "plt.show()"
      ]
    },
    {
      "cell_type": "code",
      "execution_count": 13,
      "id": "sGKaMEcZpBQK",
      "metadata": {
        "id": "sGKaMEcZpBQK"
      },
      "outputs": [],
      "source": [
        "# The Triage class extends the PyTorch Dataset class to handle text data for training a model. It tokenizes the input text descriptions and prepares them for model input.\n",
        "\n",
        "\n",
        "class Triage(Dataset):\n",
        "    def __init__(self, dataframe, tokenizer, max_len):\n",
        "        self.len = len(dataframe) # Store the length of the dataframe\n",
        "        self.data = dataframe # Store dataframe\n",
        "        self.tokenizer = tokenizer #store tokenizer\n",
        "        self.max_len = max_len #store max_len\n",
        "\n",
        "    def __getitem__(self, index):\n",
        "        title = str(self.data.disengagement_description[index])  #set the disengagement_description to be the title\n",
        "        title = \" \".join(title.split())   #remove any any extra space\n",
        "        inputs = self.tokenizer.encode_plus(\n",
        "            title,\n",
        "            None,\n",
        "            add_special_tokens=True,\n",
        "            max_length=self.max_len,\n",
        "            pad_to_max_length=True,\n",
        "            return_token_type_ids=True,\n",
        "            truncation=True\n",
        "        )\n",
        "        ids = inputs['input_ids']\n",
        "        mask = inputs['attention_mask']\n",
        "\n",
        "        return {\n",
        "            'ids': torch.tensor(ids, dtype=torch.long),  #convert input ids to tensor\n",
        "            'mask': torch.tensor(mask, dtype=torch.long),   #convert attention mask to tensor\n",
        "            'targets': torch.tensor(self.data.encoded_category[index], dtype=torch.long)\n",
        "        }\n",
        "\n",
        "    def __len__(self):\n",
        "        return self.len"
      ]
    },
    {
      "cell_type": "code",
      "execution_count": 14,
      "id": "RS3m9ESapBZL",
      "metadata": {
        "id": "RS3m9ESapBZL"
      },
      "outputs": [],
      "source": [
        "# Creating the dataset and dataloader for the neural network\n",
        "\n",
        "train_size = 0.8  #train sample size 80%, test size 20%\n",
        "train_dataset=reports.sample(frac=train_size,random_state=200)  #train set: sample at random (in this model I don't care about the dates)\n",
        "test_dataset=reports.drop(train_dataset.index).reset_index(drop=True) # test set: createed by dropping the training dataset indices from the original dataset, and resetting the index for the test dataset\n",
        "train_dataset = train_dataset.reset_index(drop=True) #also resetting index for train set"
      ]
    },
    {
      "cell_type": "code",
      "execution_count": 15,
      "id": "8CxOyAUEzbP5",
      "metadata": {
        "colab": {
          "base_uri": "https://localhost:8080/",
          "height": 0
        },
        "id": "8CxOyAUEzbP5",
        "outputId": "b6bb639c-6843-44c5-ef88-8384ec1918c8"
      },
      "outputs": [
        {
          "output_type": "stream",
          "name": "stdout",
          "text": [
            "FULL Dataset: (17454, 3)\n",
            "TRAIN Dataset: (13963, 3)\n",
            "TEST Dataset: (3491, 3)\n"
          ]
        }
      ],
      "source": [
        "#check the shape of full, train, and test datasets\n",
        "print(\"FULL Dataset: {}\".format(reports.shape))\n",
        "print(\"TRAIN Dataset: {}\".format(train_dataset.shape))\n",
        "print(\"TEST Dataset: {}\".format(test_dataset.shape))"
      ]
    },
    {
      "cell_type": "code",
      "execution_count": 16,
      "id": "MXaG62-WzrL5",
      "metadata": {
        "id": "MXaG62-WzrL5"
      },
      "outputs": [],
      "source": [
        "# Initialize the training dataset and test dataset using the Triage class, which tokenizes the data and prepares it for model training\n",
        "training_set = Triage(train_dataset, tokenizer, MAX_LEN)\n",
        "testing_set = Triage(test_dataset, tokenizer, MAX_LEN)"
      ]
    },
    {
      "cell_type": "code",
      "execution_count": 17,
      "id": "K5nOUnKmpBiR",
      "metadata": {
        "id": "K5nOUnKmpBiR"
      },
      "outputs": [],
      "source": [
        "#sets the parameters for the data loaders and initializes them for both training and testing datasets\n",
        "# this step is necessary for efficient batching and shuffling of the data during training and evaluation steps later.\n",
        "\n",
        "train_params = {'batch_size': TRAIN_BATCH_SIZE,   #see above\n",
        "                'shuffle': True,   #shuffles data at the start of each epoch\n",
        "                'num_workers': 0   #number of workers is the number of subprocesses to use for data loading (note that I didn't have to set subprocesses when running this notebook in colab)\n",
        "                }\n",
        "\n",
        "test_params = {'batch_size': VALID_BATCH_SIZE,   #see above\n",
        "                'shuffle': True, #shuffles data at the start of each epoch\n",
        "                'num_workers': 0 #number of workers is the number of subprocesses to use for data loading (note that I didn't have to set subprocesses when running this notebook in colab\n",
        "                }\n",
        "\n",
        "training_loader = DataLoader(training_set, **train_params)\n",
        "testing_loader = DataLoader(testing_set, **test_params)"
      ]
    },
    {
      "cell_type": "markdown",
      "id": "lsXoNnUMBBGu",
      "metadata": {
        "id": "lsXoNnUMBBGu"
      },
      "source": [
        "## Neural Network with DistillBERTClass"
      ]
    },
    {
      "cell_type": "code",
      "execution_count": 18,
      "id": "hh7cO6qeyh0H",
      "metadata": {
        "id": "hh7cO6qeyh0H"
      },
      "outputs": [],
      "source": [
        "# Creating the customized model, by adding a dropout and a dense layer on top of DistilBERT to get the final output for the model.\n",
        "#hidden layers for text classification\n",
        "# dropout layer for regularization\n",
        "# dense later for generating final predictions\n",
        "# model \"distilbert-base-uncased\" is the distilled (condensed) version of BERT language model, base = smaller size, uncased = capitalization in words don't matter\n",
        "\n",
        "# pooler : the pooled output of the hidden states from the DistilBERT model, it extracts the hidden state corresponding to the first token (usually the [CLS] token) of the input sequence which is commonly used as a summary representation.\n",
        "#  this pooled representation is then passed through additional layers (pre-classifier, ReLU activation, dropout, and classifier) to produce the final output (which is text classification labels)\n",
        "\n",
        "class DistillBERTClass(torch.nn.Module):\n",
        "    def __init__(self):\n",
        "        super(DistillBERTClass, self).__init__()\n",
        "        self.l1 = DistilBertModel.from_pretrained(\"distilbert-base-uncased\")  # Load pre-trained DistilBERT model\n",
        "        self.pre_classifier = torch.nn.Linear(768, 768)  # Add a dense layer with input and output size of 768\n",
        "        self.dropout = torch.nn.Dropout(0.3) # Add a dropout layer with 30% dropout rate for regularization\n",
        "        self.classifier = torch.nn.Linear(768, len(label_encoder.classes_)) # Add final classifier layer with output size equal to the number of classes (which is 9 class labels)\n",
        "\n",
        "    def forward(self, input_ids, attention_mask):\n",
        "        output_1 = self.l1(input_ids=input_ids, attention_mask=attention_mask)   # Get the hidden states from DistilBERT\n",
        "        hidden_state = output_1[0]   #extract hidden states\n",
        "        pooler = hidden_state[:, 0]  # Use the representation of the [CLS] token (first token)\n",
        "        pooler = self.pre_classifier(pooler)  # Apply the pre-classifier dense layer\n",
        "        pooler = torch.nn.ReLU()(pooler)    # Apply ReLU activation function\n",
        "        pooler = self.dropout(pooler)   # Apply dropout for regularization\n",
        "        output = self.classifier(pooler)   # Get the final output from the classifier layer\n",
        "        return output"
      ]
    },
    {
      "cell_type": "code",
      "execution_count": 19,
      "id": "4ndz1WyCAOyB",
      "metadata": {
        "colab": {
          "base_uri": "https://localhost:8080/",
          "height": 0
        },
        "collapsed": true,
        "id": "4ndz1WyCAOyB",
        "jupyter": {
          "outputs_hidden": true
        },
        "outputId": "f19d334c-ec51-4251-9753-ac16a49584b6"
      },
      "outputs": [
        {
          "output_type": "execute_result",
          "data": {
            "text/plain": [
              "DistillBERTClass(\n",
              "  (l1): DistilBertModel(\n",
              "    (embeddings): Embeddings(\n",
              "      (word_embeddings): Embedding(30522, 768, padding_idx=0)\n",
              "      (position_embeddings): Embedding(512, 768)\n",
              "      (LayerNorm): LayerNorm((768,), eps=1e-12, elementwise_affine=True)\n",
              "      (dropout): Dropout(p=0.1, inplace=False)\n",
              "    )\n",
              "    (transformer): Transformer(\n",
              "      (layer): ModuleList(\n",
              "        (0-5): 6 x TransformerBlock(\n",
              "          (attention): MultiHeadSelfAttention(\n",
              "            (dropout): Dropout(p=0.1, inplace=False)\n",
              "            (q_lin): Linear(in_features=768, out_features=768, bias=True)\n",
              "            (k_lin): Linear(in_features=768, out_features=768, bias=True)\n",
              "            (v_lin): Linear(in_features=768, out_features=768, bias=True)\n",
              "            (out_lin): Linear(in_features=768, out_features=768, bias=True)\n",
              "          )\n",
              "          (sa_layer_norm): LayerNorm((768,), eps=1e-12, elementwise_affine=True)\n",
              "          (ffn): FFN(\n",
              "            (dropout): Dropout(p=0.1, inplace=False)\n",
              "            (lin1): Linear(in_features=768, out_features=3072, bias=True)\n",
              "            (lin2): Linear(in_features=3072, out_features=768, bias=True)\n",
              "            (activation): GELUActivation()\n",
              "          )\n",
              "          (output_layer_norm): LayerNorm((768,), eps=1e-12, elementwise_affine=True)\n",
              "        )\n",
              "      )\n",
              "    )\n",
              "  )\n",
              "  (pre_classifier): Linear(in_features=768, out_features=768, bias=True)\n",
              "  (dropout): Dropout(p=0.3, inplace=False)\n",
              "  (classifier): Linear(in_features=768, out_features=9, bias=True)\n",
              ")"
            ]
          },
          "metadata": {},
          "execution_count": 19
        }
      ],
      "source": [
        "#create an instance of the DistillBERTClass model and moves it to the specified device (CPU or GPU) for training or validation.\n",
        "# I'm using google colabs pro with L4 GPU for this model. the device info is stored in earlier steps.\n",
        "\n",
        "model = DistillBERTClass()\n",
        "model.to(device)"
      ]
    },
    {
      "cell_type": "code",
      "execution_count": 20,
      "id": "VJQHbZ41APDH",
      "metadata": {
        "id": "VJQHbZ41APDH"
      },
      "outputs": [],
      "source": [
        "# Creating the loss function and optimizer for training this model\n",
        "# since this is a classification task, the loss function \"CrossEntropyLoss\" is suitable\n",
        "# optimizer \"Adam\" is selected for its efficiency in training deep learning models.\n",
        "#learning rate is defined above, 3e-05\n",
        "\n",
        "loss_function = torch.nn.CrossEntropyLoss()\n",
        "optimizer = torch.optim.Adam(params =  model.parameters(), lr=LEARNING_RATE)"
      ]
    },
    {
      "cell_type": "markdown",
      "id": "2kKaBOb1vcM0",
      "metadata": {
        "id": "2kKaBOb1vcM0"
      },
      "source": [
        "### Finetuning the model"
      ]
    },
    {
      "cell_type": "code",
      "execution_count": 21,
      "id": "zjtesp4UMMXg",
      "metadata": {
        "id": "zjtesp4UMMXg"
      },
      "outputs": [],
      "source": [
        "# set up a learning rate scheduler to adjust the learning rate during training.\n",
        "# The scheduler decreases the learning rate from an initial value in a linear way, which helps stabilize the training process by allowing for warm-up steps at the beginning of training.\n",
        "# 'num_warmup_steps' is set to 0, meaning there are no warm-up steps\n",
        "# 'num_training_steps' is the total number of steps calculated\n",
        "\n",
        "# Calculate the total number of training steps by multiplying the number of batches per epoch by the number of epochs\n",
        "total_steps = len(training_loader) * EPOCHS\n",
        "scheduler = get_linear_schedule_with_warmup(optimizer, num_warmup_steps=0, num_training_steps=total_steps)"
      ]
    },
    {
      "cell_type": "code",
      "execution_count": 22,
      "id": "dDpzlCK9MMNw",
      "metadata": {
        "id": "dDpzlCK9MMNw"
      },
      "outputs": [],
      "source": [
        "# Training function\n",
        "# This defines a training function that trains the model for one epoch, calculates the total loss, and tracks the number of correct predictions. Then, it also updates the optimizer and learning rate scheduler at each step.\n",
        "#use training_loader, optimizer, and scheduler\n",
        "\n",
        "def train_epoch(model, training_loader, optimizer, scheduler):\n",
        "    model.train()   #model is in training mode\n",
        "    total_loss = 0   #initialize total loss = 0, this will get updated in later steps\n",
        "    correct_predictions = 0   #initial count of correct predictions\n",
        "\n",
        "    for batch in training_loader:\n",
        "        optimizer.zero_grad()   # Clear the previous gradients\n",
        "\n",
        "        ids = batch['ids'].to(device)  # Move input ids to the selected device\n",
        "        mask = batch['mask'].to(device)   # Move attention mask to the selected device\n",
        "        targets = batch['targets'].to(device)   # Move targets to the selected device\n",
        "\n",
        "        outputs = model(input_ids=ids, attention_mask=mask)   #forward pass\n",
        "        loss = loss_function(outputs, targets)   #find the loss\n",
        "\n",
        "        total_loss += loss.item()    #add current loss to total loss\n",
        "        correct_predictions += (outputs.argmax(dim=1) == targets).sum().item()  # Count the correct predictions\n",
        "\n",
        "        loss.backward()    # Backpropagate to calculate gradients\n",
        "        optimizer.step()    # Update the model parameters\n",
        "        scheduler.step()    # Update the learning rate\n",
        "\n",
        "    return total_loss / len(training_loader), correct_predictions / len(training_loader.dataset)   #this is the average loss and accuracy for each epoch for plotting later\n"
      ]
    },
    {
      "cell_type": "code",
      "execution_count": 23,
      "id": "_CenLrQzML-S",
      "metadata": {
        "id": "_CenLrQzML-S"
      },
      "outputs": [],
      "source": [
        "# Evaluation function\n",
        "# This assesses the model's performance on the testing dataset, calculating the total loss and accuracy without updating the model parameters\n",
        "#use testing_loader\n",
        "\n",
        "def eval_model(model, testing_loader):\n",
        "    model.eval() #model is in evaluation mode\n",
        "    total_loss = 0  #initialize total loss = 0, this will get updated in later steps\n",
        "    correct_predictions = 0   #initial count of correct predictions\n",
        "\n",
        "    # Disable gradient calculation for evaluation because i;m not updating the model params in eval step\n",
        "    with torch.no_grad():\n",
        "        for batch in testing_loader:\n",
        "            ids = batch['ids'].to(device) # Move input ids to the selected device\n",
        "            mask = batch['mask'].to(device) # Move attention mask to the selected device\n",
        "            targets = batch['targets'].to(device)   # Move targets to the selected device\n",
        "\n",
        "            outputs = model(input_ids=ids, attention_mask=mask)  #forward pass\n",
        "            loss = loss_function(outputs, targets)  #find the loss\n",
        "\n",
        "            total_loss += loss.item()    #add current loss to total loss\n",
        "            correct_predictions += (outputs.argmax(dim=1) == targets).sum().item()  # Count the correct predictions\n",
        "\n",
        "    return total_loss / len(testing_loader), correct_predictions / len(testing_loader.dataset) #this is the average loss and accuracy for each epoch for plotting later\n"
      ]
    },
    {
      "cell_type": "code",
      "execution_count": 24,
      "id": "QSon2933ML0S",
      "metadata": {
        "id": "QSon2933ML0S"
      },
      "outputs": [],
      "source": [
        "# Training loop\n",
        "# Initialize a dictionary to store the history of training and validation metrics for each epoch\n",
        "\n",
        "history = {'train_loss': [], 'val_loss': [], 'train_acc': [], 'val_acc': []}"
      ]
    },
    {
      "cell_type": "code",
      "execution_count": 25,
      "id": "S26pem40MLnX",
      "metadata": {
        "colab": {
          "base_uri": "https://localhost:8080/",
          "height": 0
        },
        "id": "S26pem40MLnX",
        "outputId": "eae86ebe-8541-4d1b-816f-6924dfea930d"
      },
      "outputs": [
        {
          "output_type": "stream",
          "name": "stdout",
          "text": [
            "Epoch 1/10\n"
          ]
        },
        {
          "output_type": "stream",
          "name": "stderr",
          "text": [
            "/usr/local/lib/python3.10/dist-packages/transformers/tokenization_utils_base.py:2699: FutureWarning: The `pad_to_max_length` argument is deprecated and will be removed in a future version, use `padding=True` or `padding='longest'` to pad to the longest sequence in the batch, or use `padding='max_length'` to pad to a max length. In this case, you can give a specific length with `max_length` (e.g. `max_length=45`) or leave max_length to None to pad to the maximal input size of the model (e.g. 512 for Bert).\n",
            "  warnings.warn(\n"
          ]
        },
        {
          "output_type": "stream",
          "name": "stdout",
          "text": [
            "Train loss: 0.20811679225787308, Train accuracy: 0.9446394041395115\n",
            "Validation loss: 0.04107025935121725, Validation accuracy: 0.9891148668003438\n",
            "Epoch 2/10\n",
            "Train loss: 0.02425214489179163, Train accuracy: 0.9944854257681014\n",
            "Validation loss: 0.017481421857317846, Validation accuracy: 0.996562589515898\n",
            "Epoch 3/10\n",
            "Train loss: 0.01270375747583942, Train accuracy: 0.9969204325717969\n",
            "Validation loss: 0.009423412969840735, Validation accuracy: 0.9977083930105987\n",
            "Epoch 4/10\n",
            "Train loss: 0.004140887055618722, Train accuracy: 0.9991405858339898\n",
            "Validation loss: 0.008139569255974526, Validation accuracy: 0.9985677456316242\n",
            "Epoch 5/10\n",
            "Train loss: 0.0026789779072018812, Train accuracy: 0.9993554393754924\n",
            "Validation loss: 0.006974372165007208, Validation accuracy: 0.9991406473789745\n",
            "Epoch 6/10\n",
            "Train loss: 0.0011213715301970216, Train accuracy: 0.9997851464584975\n",
            "Validation loss: 0.007278539351098004, Validation accuracy: 0.998281294757949\n",
            "Epoch 7/10\n",
            "Train loss: 0.0005445833536414222, Train accuracy: 0.9999283821528325\n",
            "Validation loss: 0.0071031075615290784, Validation accuracy: 0.9985677456316242\n",
            "Epoch 8/10\n",
            "Train loss: 0.0002327238639918922, Train accuracy: 1.0\n",
            "Validation loss: 0.007847358572244318, Validation accuracy: 0.998281294757949\n",
            "Epoch 9/10\n",
            "Train loss: 0.00016050019632034268, Train accuracy: 1.0\n",
            "Validation loss: 0.007836650200319194, Validation accuracy: 0.998281294757949\n",
            "Epoch 10/10\n",
            "Train loss: 0.00014327852662043584, Train accuracy: 1.0\n",
            "Validation loss: 0.00795734023004386, Validation accuracy: 0.998281294757949\n"
          ]
        }
      ],
      "source": [
        "#Modeling\n",
        "# this runs a loop for each epoch in range (0, EPOCHS = 10):\n",
        "# training and evaluating the model\n",
        "# printing and recording the accuracy and loss values for each epoch in 'history' for the training and validation datasets.\n",
        "\n",
        "for epoch in range(EPOCHS):\n",
        "    print(f'Epoch {epoch + 1}/{EPOCHS}')  # Print the current epoch number\n",
        "\n",
        "    # Train the model on the training set and get the training loss and accuracy\n",
        "    # using model, training_loader, optimizer, scheduler\n",
        "    train_loss, train_acc = train_epoch(model, training_loader, optimizer, scheduler)\n",
        "    print(f'Train loss: {train_loss}, Train accuracy: {train_acc}')\n",
        "\n",
        "    # Evaluate the model on the validation set and get the validation loss and accuracy\n",
        "    # only using model, testing_loader\n",
        "    val_loss, val_acc = eval_model(model, testing_loader)\n",
        "    print(f'Validation loss: {val_loss}, Validation accuracy: {val_acc}')\n",
        "\n",
        "    # Record the training and validation metrics for this epoch by appending the values to 'history'\n",
        "    history['train_loss'].append(train_loss)\n",
        "    history['val_loss'].append(val_loss)\n",
        "    history['train_acc'].append(train_acc)\n",
        "    history['val_acc'].append(val_acc)"
      ]
    },
    {
      "cell_type": "markdown",
      "id": "e4a497cd-5ebc-46d5-8391-7360803d964f",
      "metadata": {
        "id": "e4a497cd-5ebc-46d5-8391-7360803d964f"
      },
      "source": [
        "## 4. Model Evaluation"
      ]
    },
    {
      "cell_type": "code",
      "execution_count": 32,
      "id": "kCMx_maRM-76",
      "metadata": {
        "colab": {
          "base_uri": "https://localhost:8080/",
          "height": 564
        },
        "id": "kCMx_maRM-76",
        "outputId": "c358d0dd-f07b-4231-d7e8-d79069bd7443"
      },
      "outputs": [
        {
          "output_type": "display_data",
          "data": {
            "text/plain": [
              "<Figure size 1200x600 with 1 Axes>"
            ],
            "image/png": "[encoded data removed]"
          },
          "metadata": {}
        }
      ],
      "source": [
        "# Plot the training and validation accuracy for each epoch\n",
        "def plot_accuracy(history):\n",
        "    epochs = range(1, len(history['train_acc']) + 1)\n",
        "    plt.figure(figsize=(12, 6))\n",
        "\n",
        "    plt.plot(epochs, history['train_acc'], color='mediumaquamarine', linewidth=4, label='Training Accuracy')\n",
        "    plt.plot(epochs, history['val_acc'], color='blue',  linewidth=4, label='Validation Accuracy')\n",
        "    plt.title('Training and Validation Accuracy')\n",
        "    plt.xlabel('Epochs')\n",
        "    plt.ylabel('Accuracy')\n",
        "    plt.legend()\n",
        "    plt.savefig('./accuracy_plots.png')\n",
        "\n",
        "plot_accuracy(history)\n"
      ]
    },
    {
      "cell_type": "code",
      "execution_count": 33,
      "id": "bgXfu-gUM_GP",
      "metadata": {
        "colab": {
          "base_uri": "https://localhost:8080/",
          "height": 564
        },
        "id": "bgXfu-gUM_GP",
        "outputId": "6c24ad46-9a77-4ac2-fa8b-0450f573cba8"
      },
      "outputs": [
        {
          "output_type": "display_data",
          "data": {
            "text/plain": [
              "<Figure size 1200x600 with 1 Axes>"
            ],
            "image/png": "[encoded data removed]"
          },
          "metadata": {}
        }
      ],
      "source": [
        "# Plot the training and validation loss for each epoch\n",
        "def plot_loss(history):\n",
        "    epochs = range(1, len(history['train_loss']) + 1)\n",
        "    plt.figure(figsize=(12, 6))\n",
        "\n",
        "    plt.plot(epochs, history['train_loss'], color='mediumaquamarine', linewidth=4, label='Training Loss')\n",
        "    plt.plot(epochs, history['val_loss'], color='blue',  linewidth=4, label='Validation Loss')\n",
        "    plt.title('Training and Validation Loss')\n",
        "    plt.xlabel('Epochs')\n",
        "    plt.ylabel('Loss')\n",
        "    plt.legend()\n",
        "    plt.savefig('./loss_plots.png')\n",
        "\n",
        "plot_loss(history)\n"
      ]
    },
    {
      "cell_type": "code",
      "execution_count": 34,
      "id": "vAVjlSUdM_P7",
      "metadata": {
        "colab": {
          "base_uri": "https://localhost:8080/",
          "height": 0
        },
        "id": "vAVjlSUdM_P7",
        "outputId": "514a029c-372a-4f09-b147-0f96f9fdd307"
      },
      "outputs": [
        {
          "output_type": "stream",
          "name": "stderr",
          "text": [
            "/usr/local/lib/python3.10/dist-packages/transformers/tokenization_utils_base.py:2699: FutureWarning: The `pad_to_max_length` argument is deprecated and will be removed in a future version, use `padding=True` or `padding='longest'` to pad to the longest sequence in the batch, or use `padding='max_length'` to pad to a max length. In this case, you can give a specific length with `max_length` (e.g. `max_length=45`) or leave max_length to None to pad to the maximal input size of the model (e.g. 512 for Bert).\n",
            "  warnings.warn(\n"
          ]
        },
        {
          "output_type": "stream",
          "name": "stdout",
          "text": [
            "Validation Accuracy: 0.998281294757949\n",
            "Validation Loss: 0.00795731809063266\n"
          ]
        }
      ],
      "source": [
        "# Evaluate the model on the validation set\n",
        "eval_loss, eval_accuracy = eval_model(model, testing_loader)\n",
        "print(f\"Validation Accuracy: {eval_accuracy}\")\n",
        "print(f\"Validation Loss: {eval_loss}\")"
      ]
    },
    {
      "cell_type": "code",
      "execution_count": 35,
      "id": "Tbaxxc0xNIua",
      "metadata": {
        "colab": {
          "base_uri": "https://localhost:8080/",
          "height": 0
        },
        "id": "Tbaxxc0xNIua",
        "outputId": "15a8664b-4eb4-4f09-d373-a171321b3c0f"
      },
      "outputs": [
        {
          "output_type": "stream",
          "name": "stdout",
          "text": [
            "                               precision    recall  f1-score   support\n",
            "\n",
            "                      control       1.00      1.00      1.00        42\n",
            "          driver intervention       1.00      1.00      1.00       446\n",
            "        environmental factors       0.97      0.99      0.98        69\n",
            "              hardware issues       1.00      1.00      1.00       299\n",
            "localization & mapping issues       1.00      0.96      0.98        50\n",
            "                        other       0.98      1.00      0.99        56\n",
            "            perception issues       1.00      1.00      1.00      1261\n",
            "              planning issues       1.00      1.00      1.00      1224\n",
            "                      traffic       1.00      1.00      1.00        44\n",
            "\n",
            "                     accuracy                           1.00      3491\n",
            "                    macro avg       0.99      0.99      0.99      3491\n",
            "                 weighted avg       1.00      1.00      1.00      3491\n",
            "\n"
          ]
        }
      ],
      "source": [
        "# Validation set classification report\n",
        "# This evaluates the model on the testing dataset and prints the classification report which includes precision, recall, F-score for each class labels.\n",
        "\n",
        "# initialize empty lists to store true labels and preds\n",
        "y_true = []\n",
        "y_pred = []\n",
        "\n",
        "#very similar steps to the above modelling part\n",
        "model.eval()  #set model to eval mode, and disable gradient calculation\n",
        "with torch.no_grad():\n",
        "    for batch in testing_loader:\n",
        "        ids = batch['ids'].to(device)\n",
        "        mask = batch['mask'].to(device)\n",
        "        targets = batch['targets'].to(device)\n",
        "\n",
        "        outputs = model(input_ids=ids, attention_mask=mask)\n",
        "        preds = outputs.argmax(dim=1)  # Get the predicted class by finding the index with the highest score\n",
        "\n",
        "        y_true.extend(targets.cpu().numpy())  # Append true labels to the list\n",
        "        y_pred.extend(preds.cpu().numpy())    # Append predicted labels to the list\n",
        "\n",
        "print(classification_report(y_true, y_pred, target_names=label_encoder.classes_))"
      ]
    },
    {
      "cell_type": "code",
      "source": [
        "# Training set classification report\n",
        "\n",
        "y_true = []\n",
        "y_pred = []\n",
        "\n",
        "model.train()\n",
        "with torch.no_grad():\n",
        "    for batch in training_loader:\n",
        "        ids = batch['ids'].to(device)\n",
        "        mask = batch['mask'].to(device)\n",
        "        targets = batch['targets'].to(device)\n",
        "\n",
        "        outputs = model(input_ids=ids, attention_mask=mask)\n",
        "        preds = outputs.argmax(dim=1)\n",
        "\n",
        "        y_true.extend(targets.cpu().numpy())\n",
        "        y_pred.extend(preds.cpu().numpy())\n",
        "\n",
        "print(classification_report(y_true, y_pred, target_names=label_encoder.classes_))"
      ],
      "metadata": {
        "colab": {
          "base_uri": "https://localhost:8080/",
          "height": 0
        },
        "id": "w08eYID31f2H",
        "outputId": "ecdbaabf-8415-4259-e938-43fca4707002"
      },
      "id": "w08eYID31f2H",
      "execution_count": 30,
      "outputs": [
        {
          "output_type": "stream",
          "name": "stderr",
          "text": [
            "/usr/local/lib/python3.10/dist-packages/transformers/tokenization_utils_base.py:2699: FutureWarning: The `pad_to_max_length` argument is deprecated and will be removed in a future version, use `padding=True` or `padding='longest'` to pad to the longest sequence in the batch, or use `padding='max_length'` to pad to a max length. In this case, you can give a specific length with `max_length` (e.g. `max_length=45`) or leave max_length to None to pad to the maximal input size of the model (e.g. 512 for Bert).\n",
            "  warnings.warn(\n"
          ]
        },
        {
          "output_type": "stream",
          "name": "stdout",
          "text": [
            "                               precision    recall  f1-score   support\n",
            "\n",
            "                      control       1.00      1.00      1.00       221\n",
            "          driver intervention       1.00      1.00      1.00      1830\n",
            "        environmental factors       1.00      1.00      1.00       227\n",
            "              hardware issues       1.00      1.00      1.00      1395\n",
            "localization & mapping issues       1.00      1.00      1.00       199\n",
            "                        other       1.00      1.00      1.00       236\n",
            "            perception issues       1.00      1.00      1.00      4852\n",
            "              planning issues       1.00      1.00      1.00      4839\n",
            "                      traffic       1.00      1.00      1.00       164\n",
            "\n",
            "                     accuracy                           1.00     13963\n",
            "                    macro avg       1.00      1.00      1.00     13963\n",
            "                 weighted avg       1.00      1.00      1.00     13963\n",
            "\n"
          ]
        }
      ]
    },
    {
      "cell_type": "markdown",
      "id": "SliZkV46JWOX",
      "metadata": {
        "id": "SliZkV46JWOX"
      },
      "source": [
        "### Saving the model"
      ]
    },
    {
      "cell_type": "code",
      "execution_count": 31,
      "id": "EmOIva7LGV-u",
      "metadata": {
        "colab": {
          "base_uri": "https://localhost:8080/",
          "height": 0
        },
        "id": "EmOIva7LGV-u",
        "outputId": "58f22ef9-50f5-4ce7-8d19-1fe017e9010d"
      },
      "outputs": [
        {
          "output_type": "execute_result",
          "data": {
            "text/plain": [
              "('./vocab_distilbert_disengagementreports.bin',)"
            ]
          },
          "metadata": {},
          "execution_count": 31
        }
      ],
      "source": [
        "# Saving the files for re-use\n",
        "\n",
        "output_model_file = './pytorch_distilbert_disengagementreports.bin'\n",
        "output_vocab_file = './vocab_distilbert_disengagementreports.bin'\n",
        "\n",
        "model_to_save = model\n",
        "torch.save(model_to_save, output_model_file)\n",
        "tokenizer.save_vocabulary(output_vocab_file)\n"
      ]
    },
    {
      "cell_type": "code",
      "execution_count": 31,
      "id": "YWrU0l7bGWIc",
      "metadata": {
        "id": "YWrU0l7bGWIc"
      },
      "outputs": [],
      "source": []
    }
  ],
  "metadata": {
    "accelerator": "GPU",
    "colab": {
      "gpuType": "L4",
      "machine_shape": "hm",
      "provenance": []
    },
    "kernelspec": {
      "display_name": "Python 3 (ipykernel)",
      "language": "python",
      "name": "python3"
    },
    "language_info": {
      "codemirror_mode": {
        "name": "ipython",
        "version": 3
      },
      "file_extension": ".py",
      "mimetype": "text/x-python",
      "name": "python",
      "nbconvert_exporter": "python",
      "pygments_lexer": "ipython3",
      "version": "3.11.7"
    }
  },
  "nbformat": 4,
  "nbformat_minor": 5
}